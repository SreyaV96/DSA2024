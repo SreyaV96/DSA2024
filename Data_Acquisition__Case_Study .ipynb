{
 "cells": [
  {
   "cell_type": "markdown",
   "metadata": {
    "id": "6aRvzWzbhcnp"
   },
   "source": [
    "# Data Acquisition Case Study"
   ]
  },
  {
   "cell_type": "markdown",
   "metadata": {
    "id": "734JDyUNq8fH"
   },
   "source": [
    "## Q1. Write Python code to create a new file named \"sample_data.txt\" in your documents folder and write the following content to it\n",
    "\n",
    "ICTAK\n",
    "\n",
    "Thejaswini,\n",
    "\n",
    "Technopark Rd,\n",
    "\n",
    "Technopark Campus,\n",
    "\n",
    "Thiruvananthapuram,\n",
    "\n",
    "Kerala 695581"
   ]
  },
  {
   "cell_type": "code",
   "execution_count": 3,
   "metadata": {},
   "outputs": [],
   "source": [
    "with open(\"C:\\\\Users\\\\sachi\\\\Documents\\\\sample_data.txt\", \"w\") as file:\n",
    "    file.write(\"ICTAK\\nThejaswini\\nTechnopark Rd\\nTechnopark Campus\\nThiruvananthapuram\\nKerala 695581\")"
   ]
  },
  {
   "cell_type": "code",
   "execution_count": null,
   "metadata": {},
   "outputs": [],
   "source": []
  },
  {
   "cell_type": "markdown",
   "metadata": {
    "id": "aJ6hQOJpimNv"
   },
   "source": [
    "## Q2. Write Python code to read and print the contents in \"sample_data.txt\""
   ]
  },
  {
   "cell_type": "code",
   "execution_count": 5,
   "metadata": {
    "id": "vRnilPQgnrPG"
   },
   "outputs": [
    {
     "name": "stdout",
     "output_type": "stream",
     "text": [
      "ICTAK\n",
      "Thejaswini\n",
      "Technopark Rd\n",
      "Technopark Campus\n",
      "Thiruvananthapuram\n",
      "Kerala 695581\n"
     ]
    }
   ],
   "source": [
    "import os\n",
    "with open(os.path.join(\"C:/\", \"Users\", \"sachi\",\"Documents\", \"sample_data.txt\"),\"r\") as file:\n",
    "    content = file.read()\n",
    "    print(content)"
   ]
  },
  {
   "cell_type": "markdown",
   "metadata": {
    "id": "9aHquDcErda-"
   },
   "source": [
    "## Q3. Write Python code to check if \"sample_data.txt\" exists in documents folder"
   ]
  },
  {
   "cell_type": "code",
   "execution_count": 7,
   "metadata": {
    "id": "vY5TEsxunsKh"
   },
   "outputs": [
    {
     "name": "stdout",
     "output_type": "stream",
     "text": [
      "File exists\n"
     ]
    }
   ],
   "source": [
    "import os\n",
    "if os.path.exists(\"C:\\\\Users\\\\sachi\\\\Documents\\\\sample_data.txt\"):\n",
    "    print(\"File exists\")\n",
    "else:\n",
    "    print(\"File doesn't exists\") "
   ]
  },
  {
   "cell_type": "markdown",
   "metadata": {
    "id": "BCWITkmopblI"
   },
   "source": [
    "## Q4: Save the following dataframe content to a CSV file (data.csv) in your downloads folder"
   ]
  },
  {
   "cell_type": "code",
   "execution_count": 9,
   "metadata": {
    "id": "r3THwBOGpP9F"
   },
   "outputs": [],
   "source": [
    "import pandas as pd\n",
    "\n",
    "data = {\"Id\": [1, 2, 3],\n",
    "        \"Name\": [\"Alice\", \"Bob\", \"Charlie\"],\n",
    "        \"Subject\": [\"Science\", \"Maths\", \"History\"]}\n",
    "df = pd.DataFrame(data)"
   ]
  },
  {
   "cell_type": "code",
   "execution_count": 10,
   "metadata": {},
   "outputs": [],
   "source": [
    "df.to_csv(\"C:\\\\Users\\\\sachi\\\\Downloads\\\\data.csv\", index =False)"
   ]
  },
  {
   "cell_type": "markdown",
   "metadata": {
    "id": "VF0nJjGElq0A"
   },
   "source": [
    "## Q5: Save the above dataframe content to an Excel (data.xlsx, sheet name: Sheet1) file in your documents folder"
   ]
  },
  {
   "cell_type": "code",
   "execution_count": 12,
   "metadata": {
    "id": "ZtOFb7ZJnu1m"
   },
   "outputs": [],
   "source": [
    "df.to_excel(\"C:\\\\Users\\\\sachi\\\\Downloads\\\\data.xlsx\",index = False, sheet_name = \"sheet1\")"
   ]
  },
  {
   "cell_type": "markdown",
   "metadata": {
    "id": "amF6kxMQmdgF"
   },
   "source": [
    "## Q6. Write code to get the list of files in your Downloads folder and save it to a CSV file name \"download_list.csv\""
   ]
  },
  {
   "cell_type": "code",
   "execution_count": 14,
   "metadata": {
    "id": "nVP86z3dnvwz"
   },
   "outputs": [
    {
     "name": "stdout",
     "output_type": "stream",
     "text": [
      "Files in downloads folder: ['.ipynb_checkpoints', 'academic.db', 'academic.db-journal', 'Anaconda3-2024.10-1-Windows-x86_64.exe', 'auto-mpg.csv', 'basics-and-benefits-of-agile-method1-1024x486.jpg', 'beer-servings.csv', 'bike+sharing+dataset', 'bike+sharing+dataset.zip', 'Case Study on Statistics (1).pdf', 'Case Study on Statistics.pdf', 'case study.xlsx', 'Case_study_on_Numpy_Pandas .pdf', 'Case_study_on_Numpy_Pandas.ipynb', 'Case_Study_SQL.pdf', 'Case_Study_SQL_Questions.ipynb', 'Certified Specialist in Data Science and Analytics-First Installment  (1).pdf', 'Certified Specialist in Data Science and Analytics-First Installment .pdf', 'ChromeSetup.exe', 'data-science-vs-machine-learning.png', 'data.csv', 'data.csv.txt', 'data.xlsx', 'Data_Acquisition_Case_Study (1).ipynb', 'Data_Acquisition_Case_Study.ipynb', 'Day13_Python_Practice_Questions (1).ipynb', 'Day13_Python_Practice_Questions (2).ipynb', 'Day13_Python_Practice_Questions.ipynb', 'Day13_Python_Practice_Questions.pdf', 'day15 (1).md', 'day15 (1).zip', 'day15.md', 'day15.zip', 'day16.md', 'day16.zip', 'desktop.ini', 'download_list.csv', 'Git-2.47.1-64-bit.exe', 'GoalSeek.xls', 'House_Pricing.csv', 'HT_2_hallticket.pdf', 'imdb (1).sql', 'imdb.db', 'imdb.sql', 'Linear Algebra (1).pdf', 'Linear Algebra (2).pdf', 'Linear Algebra.pdf', 'mysql-installer-community-8.0.40.0.msi', 'pan_signed_11pan_signed.jpg', 'pg_certificates.pdf', 'pycharm-community-2024.2.4.exe', 'Python_class.ipynb', 'python_practice_questions.txt', 'random.txt', 'random_array.npy', 'random_array.npz.npy', 'Reading_and_Writing_Data.ipynb', 'sqlite_lesson (1).ipynb', 'sqlite_lesson.ipynb', 'sreyavenugopal   3.jpg', 'sslc11.pdf', 'VSCodeUserSetup-x64-1.94.2.exe']\n"
     ]
    }
   ],
   "source": [
    "import os\n",
    "files = os.listdir(\"C:\\\\Users\\\\sachi\\\\Downloads\")\n",
    "print(\"Files in downloads folder:\", files)"
   ]
  },
  {
   "cell_type": "code",
   "execution_count": 15,
   "metadata": {},
   "outputs": [
    {
     "data": {
      "text/html": [
       "<div>\n",
       "<style scoped>\n",
       "    .dataframe tbody tr th:only-of-type {\n",
       "        vertical-align: middle;\n",
       "    }\n",
       "\n",
       "    .dataframe tbody tr th {\n",
       "        vertical-align: top;\n",
       "    }\n",
       "\n",
       "    .dataframe thead th {\n",
       "        text-align: right;\n",
       "    }\n",
       "</style>\n",
       "<table border=\"1\" class=\"dataframe\">\n",
       "  <thead>\n",
       "    <tr style=\"text-align: right;\">\n",
       "      <th></th>\n",
       "      <th>0</th>\n",
       "    </tr>\n",
       "  </thead>\n",
       "  <tbody>\n",
       "    <tr>\n",
       "      <th>0</th>\n",
       "      <td>.ipynb_checkpoints</td>\n",
       "    </tr>\n",
       "    <tr>\n",
       "      <th>1</th>\n",
       "      <td>academic.db</td>\n",
       "    </tr>\n",
       "    <tr>\n",
       "      <th>2</th>\n",
       "      <td>academic.db-journal</td>\n",
       "    </tr>\n",
       "    <tr>\n",
       "      <th>3</th>\n",
       "      <td>Anaconda3-2024.10-1-Windows-x86_64.exe</td>\n",
       "    </tr>\n",
       "    <tr>\n",
       "      <th>4</th>\n",
       "      <td>auto-mpg.csv</td>\n",
       "    </tr>\n",
       "  </tbody>\n",
       "</table>\n",
       "</div>"
      ],
      "text/plain": [
       "                                        0\n",
       "0                      .ipynb_checkpoints\n",
       "1                             academic.db\n",
       "2                     academic.db-journal\n",
       "3  Anaconda3-2024.10-1-Windows-x86_64.exe\n",
       "4                            auto-mpg.csv"
      ]
     },
     "execution_count": 15,
     "metadata": {},
     "output_type": "execute_result"
    }
   ],
   "source": [
    "df = pd.DataFrame(files)\n",
    "df.head()"
   ]
  },
  {
   "cell_type": "code",
   "execution_count": 16,
   "metadata": {},
   "outputs": [],
   "source": [
    "df.to_csv(\"C:\\\\Users\\\\sachi\\\\Downloads\\\\download_list.csv\", index =False)"
   ]
  },
  {
   "cell_type": "markdown",
   "metadata": {
    "id": "vR7I4R5bnV2w"
   },
   "source": [
    "## Q7. Write Python code to save the contents of the given random_array variable as a numpy file"
   ]
  },
  {
   "cell_type": "code",
   "execution_count": 18,
   "metadata": {
    "id": "vHXYRxnDnJzA"
   },
   "outputs": [],
   "source": [
    "import numpy as np\n",
    "random_array = np.random.rand(10, 10)"
   ]
  },
  {
   "cell_type": "code",
   "execution_count": 19,
   "metadata": {
    "id": "ihhSKJF9n3NP"
   },
   "outputs": [
    {
     "name": "stdout",
     "output_type": "stream",
     "text": [
      "Array saved as 'random_array.npy'\n"
     ]
    }
   ],
   "source": [
    "np.save(\"random_array.npy\", random_array) \n",
    "print(\"Array saved as 'random_array.npy'\")"
   ]
  },
  {
   "cell_type": "code",
   "execution_count": 20,
   "metadata": {},
   "outputs": [
    {
     "name": "stdout",
     "output_type": "stream",
     "text": [
      "Array saved as 'random_array.npz'\n"
     ]
    }
   ],
   "source": [
    "np.save(\"random_array.npz\", random_array) \n",
    "print(\"Array saved as 'random_array.npz'\")"
   ]
  },
  {
   "cell_type": "code",
   "execution_count": 21,
   "metadata": {},
   "outputs": [
    {
     "name": "stdout",
     "output_type": "stream",
     "text": [
      "Loaded array: [[0.58442323 0.63784969 0.54712766 0.28322237 0.18283776 0.77297373\n",
      "  0.65289245 0.36205428 0.9118353  0.32779219]\n",
      " [0.69846616 0.53401949 0.67104542 0.87902547 0.10364951 0.94396838\n",
      "  0.22813433 0.59318711 0.52783353 0.67674817]\n",
      " [0.92383243 0.12092041 0.6991484  0.00211673 0.25543271 0.81410947\n",
      "  0.48868807 0.708773   0.08843766 0.26545226]\n",
      " [0.43537132 0.68832304 0.40680846 0.1809657  0.80352251 0.51452156\n",
      "  0.14258243 0.96128712 0.80133294 0.31772605]\n",
      " [0.20002823 0.73680727 0.9393618  0.9902531  0.75333426 0.57058377\n",
      "  0.28701774 0.85018593 0.85942389 0.56405001]\n",
      " [0.03957611 0.02720841 0.60316899 0.18370159 0.98465768 0.83224787\n",
      "  0.72749985 0.88036513 0.77662749 0.90615189]\n",
      " [0.57250033 0.43364431 0.17830079 0.01818023 0.8543892  0.84644658\n",
      "  0.45184817 0.82128105 0.17801578 0.86732945]\n",
      " [0.69430425 0.59302113 0.75993521 0.67176716 0.12255138 0.15987354\n",
      "  0.69762248 0.56084821 0.03989701 0.97440303]\n",
      " [0.06205107 0.52649257 0.10752286 0.65134655 0.70734634 0.27268924\n",
      "  0.71817979 0.59918106 0.50202011 0.17686555]\n",
      " [0.0057274  0.36891834 0.50647212 0.82753885 0.39524367 0.03174501\n",
      "  0.72551654 0.77939159 0.76796233 0.12852836]]\n"
     ]
    }
   ],
   "source": [
    "loaded_array = np.load(\"random_array.npy\") #loading saved arrays\n",
    "print(\"Loaded array:\", loaded_array)\n"
   ]
  },
  {
   "cell_type": "markdown",
   "metadata": {
    "id": "V7XfHgGAzNIl"
   },
   "source": [
    "## Q8. Write python code to save the contents of the above numpy file as text file named \"random.txt\" with a delimitter of \";\" to Documents folder"
   ]
  },
  {
   "cell_type": "code",
   "execution_count": 23,
   "metadata": {
    "id": "Du3LRbaKbpeg"
   },
   "outputs": [
    {
     "name": "stdout",
     "output_type": "stream",
     "text": [
      "Array saved as 'random.txt'\n",
      "Loaded array from text file: [[0.48930406 0.54959308 0.85570443 0.43299972 0.17606891 0.82464535\n",
      "  0.2239606  0.75219031 0.67985075 0.55082254]\n",
      " [0.45955736 0.04630258 0.78820741 0.81479675 0.15455094 0.02336403\n",
      "  0.49950259 0.57836524 0.11099567 0.40967128]\n",
      " [0.44732851 0.11245502 0.15535504 0.7315683  0.52561375 0.7047947\n",
      "  0.21697371 0.91006154 0.97384018 0.46766413]\n",
      " [0.26843497 0.2697911  0.378894   0.22364732 0.10567751 0.87758649\n",
      "  0.59866317 0.6741608  0.34948409 0.10948722]\n",
      " [0.61670769 0.38954164 0.59085725 0.15005098 0.29059702 0.00802477\n",
      "  0.88886588 0.61631761 0.86294484 0.01262048]\n",
      " [0.97254424 0.85279775 0.21293314 0.15465397 0.5226609  0.47926612\n",
      "  0.27773486 0.40889756 0.69606328 0.55987908]\n",
      " [0.81624066 0.21647684 0.23928461 0.44791899 0.5960771  0.55964012\n",
      "  0.16928391 0.80828103 0.66227354 0.10219249]\n",
      " [0.44977235 0.0619489  0.0456883  0.32416089 0.19986303 0.37746278\n",
      "  0.37522751 0.89061812 0.95542794 0.3932888 ]\n",
      " [0.07592767 0.11197364 0.78111538 0.41413062 0.44303877 0.80336562\n",
      "  0.11900239 0.06288547 0.7333213  0.68377297]\n",
      " [0.98414298 0.97298562 0.71203227 0.26893657 0.4557966  0.18106184\n",
      "  0.57106601 0.12444102 0.72337534 0.90642539]]\n"
     ]
    }
   ],
   "source": [
    "np.savetxt(\"C:\\\\Users\\\\sachi\\\\Documents\\\\random.txt\", random_array , delimiter=\",\")\n",
    "print(\"Array saved as 'random.txt'\")\n",
    "\n",
    "loaded_array_txt = np.loadtxt(\"random.txt\", delimiter=\",\")\n",
    "print(\"Loaded array from text file:\", loaded_array_txt)"
   ]
  },
  {
   "cell_type": "markdown",
   "metadata": {
    "id": "nJSaX0Rg151y"
   },
   "source": [
    "## Download and analyze Bike Sharing Dataset (hour.csv) for UCI Irvin Repository (https://archive.ics.uci.edu/dataset/275/bike+sharing+dataset) and answer the following questions"
   ]
  },
  {
   "cell_type": "markdown",
   "metadata": {
    "id": "-wt4mxq32U6H"
   },
   "source": [
    "## Q9. What is the size of the dataset? (Number of rows and columns)\n",
    "\n"
   ]
  },
  {
   "cell_type": "code",
   "execution_count": 26,
   "metadata": {
    "id": "Pj0I0JhF2EEg"
   },
   "outputs": [
    {
     "data": {
      "text/plain": [
       "(17379, 17)"
      ]
     },
     "execution_count": 26,
     "metadata": {},
     "output_type": "execute_result"
    }
   ],
   "source": [
    "import pandas as pd\n",
    "hr = pd.read_csv('bike+sharing+dataset//hour.csv')\n",
    "hr.shape"
   ]
  },
  {
   "cell_type": "markdown",
   "metadata": {
    "id": "GbDnC_i438m8"
   },
   "source": [
    "## Q10. What are the data types of each column?\n"
   ]
  },
  {
   "cell_type": "code",
   "execution_count": 28,
   "metadata": {
    "id": "_YJIqJEZ3-DC"
   },
   "outputs": [
    {
     "data": {
      "text/plain": [
       "instant         int64\n",
       "dteday         object\n",
       "season          int64\n",
       "yr              int64\n",
       "mnth            int64\n",
       "hr              int64\n",
       "holiday         int64\n",
       "weekday         int64\n",
       "workingday      int64\n",
       "weathersit      int64\n",
       "temp          float64\n",
       "atemp         float64\n",
       "hum           float64\n",
       "windspeed     float64\n",
       "casual          int64\n",
       "registered      int64\n",
       "cnt             int64\n",
       "dtype: object"
      ]
     },
     "execution_count": 28,
     "metadata": {},
     "output_type": "execute_result"
    }
   ],
   "source": [
    "hr.dtypes"
   ]
  },
  {
   "cell_type": "markdown",
   "metadata": {
    "id": "zi0jHMq-3_NI"
   },
   "source": [
    "## Q11. Are there any missing values in the dataset? If so, which columns have missing values and how many?"
   ]
  },
  {
   "cell_type": "code",
   "execution_count": 30,
   "metadata": {
    "id": "mct7F2M-3-kQ"
   },
   "outputs": [
    {
     "data": {
      "text/plain": [
       "instant       0\n",
       "dteday        0\n",
       "season        0\n",
       "yr            0\n",
       "mnth          0\n",
       "hr            0\n",
       "holiday       0\n",
       "weekday       0\n",
       "workingday    0\n",
       "weathersit    0\n",
       "temp          0\n",
       "atemp         0\n",
       "hum           0\n",
       "windspeed     0\n",
       "casual        0\n",
       "registered    0\n",
       "cnt           0\n",
       "dtype: int64"
      ]
     },
     "execution_count": 30,
     "metadata": {},
     "output_type": "execute_result"
    }
   ],
   "source": [
    "hr.isna().sum()"
   ]
  },
  {
   "cell_type": "markdown",
   "metadata": {},
   "source": [
    "There is no missing values in dataset"
   ]
  },
  {
   "cell_type": "markdown",
   "metadata": {
    "id": "Ew__56Iq4BMK"
   },
   "source": [
    "## Q.12. For the windspeed column, calculate the mean, median, and standard deviation."
   ]
  },
  {
   "cell_type": "code",
   "execution_count": 33,
   "metadata": {
    "id": "ucijLTNA4Clr"
   },
   "outputs": [
    {
     "data": {
      "text/plain": [
       "0.1900976063064618"
      ]
     },
     "execution_count": 33,
     "metadata": {},
     "output_type": "execute_result"
    }
   ],
   "source": [
    "hr[\"windspeed\"].mean()"
   ]
  },
  {
   "cell_type": "code",
   "execution_count": 34,
   "metadata": {},
   "outputs": [
    {
     "data": {
      "text/plain": [
       "0.194"
      ]
     },
     "execution_count": 34,
     "metadata": {},
     "output_type": "execute_result"
    }
   ],
   "source": [
    "hr[\"windspeed\"].median()"
   ]
  },
  {
   "cell_type": "code",
   "execution_count": 35,
   "metadata": {},
   "outputs": [
    {
     "data": {
      "text/plain": [
       "0.12234022857279413"
      ]
     },
     "execution_count": 35,
     "metadata": {},
     "output_type": "execute_result"
    }
   ],
   "source": [
    "hr[\"windspeed\"].std()"
   ]
  },
  {
   "cell_type": "markdown",
   "metadata": {
    "id": "3dHaYtuP4C78"
   },
   "source": [
    "## Q13. Identify any potential outliers in a numerical column of your choice. Explain your approach.\n"
   ]
  },
  {
   "cell_type": "code",
   "execution_count": 37,
   "metadata": {
    "id": "nVkU-okb4EiU"
   },
   "outputs": [
    {
     "name": "stdout",
     "output_type": "stream",
     "text": [
      "       instant      dteday  season  yr  mnth  hr  holiday  weekday  \\\n",
      "175        176  2011-01-08       1   0     1  14        0        6   \n",
      "178        179  2011-01-08       1   0     1  17        0        6   \n",
      "194        195  2011-01-09       1   0     1   9        0        0   \n",
      "196        197  2011-01-09       1   0     1  11        0        0   \n",
      "265        266  2011-01-12       1   0     1  12        0        3   \n",
      "...        ...         ...     ...  ..   ...  ..      ...      ...   \n",
      "17327    17328  2012-12-29       1   1    12  20        0        6   \n",
      "17328    17329  2012-12-29       1   1    12  21        0        6   \n",
      "17341    17342  2012-12-30       1   1    12  10        0        0   \n",
      "17343    17344  2012-12-30       1   1    12  12        0        0   \n",
      "17344    17345  2012-12-30       1   1    12  13        0        0   \n",
      "\n",
      "       workingday  weathersit  temp   atemp   hum  windspeed  casual  \\\n",
      "175             0           1  0.20  0.1667  0.32     0.4925      12   \n",
      "178             0           1  0.16  0.1212  0.37     0.5522       5   \n",
      "194             0           1  0.12  0.0758  0.46     0.5224       0   \n",
      "196             0           1  0.16  0.1212  0.40     0.5224       2   \n",
      "265             1           1  0.20  0.1515  0.47     0.5821       3   \n",
      "...           ...         ...   ...     ...   ...        ...     ...   \n",
      "17327           0           2  0.30  0.2424  0.56     0.5522       2   \n",
      "17328           0           2  0.28  0.2424  0.56     0.4925       4   \n",
      "17341           0           1  0.26  0.2121  0.41     0.5821      31   \n",
      "17343           0           1  0.28  0.2273  0.36     0.5821      47   \n",
      "17344           0           1  0.30  0.2576  0.36     0.6567      49   \n",
      "\n",
      "       registered  cnt  \n",
      "175            83   95  \n",
      "178            64   69  \n",
      "194            19   19  \n",
      "196            47   49  \n",
      "265            52   55  \n",
      "...           ...  ...  \n",
      "17327          64   66  \n",
      "17328          56   60  \n",
      "17341          91  122  \n",
      "17343          97  144  \n",
      "17344         120  169  \n",
      "\n",
      "[342 rows x 17 columns]\n"
     ]
    }
   ],
   "source": [
    "Q1 = np.percentile(hr[\"windspeed\"],25)\n",
    "Q3 = np.percentile(hr[\"windspeed\"],75)\n",
    "IQR = Q3 - Q1\n",
    "lower_bound = Q1 - 1.5*IQR\n",
    "upper_bound = Q3 + 1.5*IQR\n",
    "outliers = hr[(hr[\"windspeed\"] < lower_bound)|(hr[\"windspeed\"] > upper_bound)]\n",
    "print(outliers)"
   ]
  },
  {
   "cell_type": "code",
   "execution_count": 38,
   "metadata": {},
   "outputs": [
    {
     "name": "stdout",
     "output_type": "stream",
     "text": [
      "       instant      dteday  season  yr  mnth  hr  holiday  weekday  \\\n",
      "175        176  2011-01-08       1   0     1  14        0        6   \n",
      "178        179  2011-01-08       1   0     1  17        0        6   \n",
      "194        195  2011-01-09       1   0     1   9        0        0   \n",
      "196        197  2011-01-09       1   0     1  11        0        0   \n",
      "265        266  2011-01-12       1   0     1  12        0        3   \n",
      "...        ...         ...     ...  ..   ...  ..      ...      ...   \n",
      "17327    17328  2012-12-29       1   1    12  20        0        6   \n",
      "17328    17329  2012-12-29       1   1    12  21        0        6   \n",
      "17341    17342  2012-12-30       1   1    12  10        0        0   \n",
      "17343    17344  2012-12-30       1   1    12  12        0        0   \n",
      "17344    17345  2012-12-30       1   1    12  13        0        0   \n",
      "\n",
      "       workingday  weathersit  temp   atemp   hum  windspeed  casual  \\\n",
      "175             0           1  0.20  0.1667  0.32     0.4925      12   \n",
      "178             0           1  0.16  0.1212  0.37     0.5522       5   \n",
      "194             0           1  0.12  0.0758  0.46     0.5224       0   \n",
      "196             0           1  0.16  0.1212  0.40     0.5224       2   \n",
      "265             1           1  0.20  0.1515  0.47     0.5821       3   \n",
      "...           ...         ...   ...     ...   ...        ...     ...   \n",
      "17327           0           2  0.30  0.2424  0.56     0.5522       2   \n",
      "17328           0           2  0.28  0.2424  0.56     0.4925       4   \n",
      "17341           0           1  0.26  0.2121  0.41     0.5821      31   \n",
      "17343           0           1  0.28  0.2273  0.36     0.5821      47   \n",
      "17344           0           1  0.30  0.2576  0.36     0.6567      49   \n",
      "\n",
      "       registered  cnt  \n",
      "175            83   95  \n",
      "178            64   69  \n",
      "194            19   19  \n",
      "196            47   49  \n",
      "265            52   55  \n",
      "...           ...  ...  \n",
      "17327          64   66  \n",
      "17328          56   60  \n",
      "17341          91  122  \n",
      "17343          97  144  \n",
      "17344         120  169  \n",
      "\n",
      "[342 rows x 17 columns]\n"
     ]
    }
   ],
   "source": [
    "# Another way\n",
    "Q1 = hr[\"windspeed\"].quantile(0.25)\n",
    "Q3 = hr[\"windspeed\"].quantile(0.75)\n",
    "IQR = Q3 - Q1\n",
    "lower_bound = Q1 - 1.5*IQR\n",
    "upper_bound = Q3 + 1.5*IQR\n",
    "outliers = hr[(hr[\"windspeed\"] < lower_bound)|(hr[\"windspeed\"] > upper_bound)]\n",
    "print(outliers)"
   ]
  },
  {
   "cell_type": "markdown",
   "metadata": {
    "id": "14sUq8ZF4E88"
   },
   "source": [
    "## Q.14 Find the correlation between numerical columns and discuss any interesting relationships."
   ]
  },
  {
   "cell_type": "code",
   "execution_count": 40,
   "metadata": {
    "id": "jnAOuuwt4Hmb"
   },
   "outputs": [
    {
     "data": {
      "text/html": [
       "<div>\n",
       "<style scoped>\n",
       "    .dataframe tbody tr th:only-of-type {\n",
       "        vertical-align: middle;\n",
       "    }\n",
       "\n",
       "    .dataframe tbody tr th {\n",
       "        vertical-align: top;\n",
       "    }\n",
       "\n",
       "    .dataframe thead th {\n",
       "        text-align: right;\n",
       "    }\n",
       "</style>\n",
       "<table border=\"1\" class=\"dataframe\">\n",
       "  <thead>\n",
       "    <tr style=\"text-align: right;\">\n",
       "      <th></th>\n",
       "      <th>instant</th>\n",
       "      <th>dteday</th>\n",
       "      <th>season</th>\n",
       "      <th>yr</th>\n",
       "      <th>mnth</th>\n",
       "      <th>hr</th>\n",
       "      <th>holiday</th>\n",
       "      <th>weekday</th>\n",
       "      <th>workingday</th>\n",
       "      <th>weathersit</th>\n",
       "      <th>temp</th>\n",
       "      <th>atemp</th>\n",
       "      <th>hum</th>\n",
       "      <th>windspeed</th>\n",
       "      <th>casual</th>\n",
       "      <th>registered</th>\n",
       "      <th>cnt</th>\n",
       "    </tr>\n",
       "  </thead>\n",
       "  <tbody>\n",
       "    <tr>\n",
       "      <th>0</th>\n",
       "      <td>1</td>\n",
       "      <td>2011-01-01</td>\n",
       "      <td>1</td>\n",
       "      <td>0</td>\n",
       "      <td>1</td>\n",
       "      <td>0</td>\n",
       "      <td>0</td>\n",
       "      <td>6</td>\n",
       "      <td>0</td>\n",
       "      <td>1</td>\n",
       "      <td>0.24</td>\n",
       "      <td>0.2879</td>\n",
       "      <td>0.81</td>\n",
       "      <td>0.0</td>\n",
       "      <td>3</td>\n",
       "      <td>13</td>\n",
       "      <td>16</td>\n",
       "    </tr>\n",
       "    <tr>\n",
       "      <th>1</th>\n",
       "      <td>2</td>\n",
       "      <td>2011-01-01</td>\n",
       "      <td>1</td>\n",
       "      <td>0</td>\n",
       "      <td>1</td>\n",
       "      <td>1</td>\n",
       "      <td>0</td>\n",
       "      <td>6</td>\n",
       "      <td>0</td>\n",
       "      <td>1</td>\n",
       "      <td>0.22</td>\n",
       "      <td>0.2727</td>\n",
       "      <td>0.80</td>\n",
       "      <td>0.0</td>\n",
       "      <td>8</td>\n",
       "      <td>32</td>\n",
       "      <td>40</td>\n",
       "    </tr>\n",
       "    <tr>\n",
       "      <th>2</th>\n",
       "      <td>3</td>\n",
       "      <td>2011-01-01</td>\n",
       "      <td>1</td>\n",
       "      <td>0</td>\n",
       "      <td>1</td>\n",
       "      <td>2</td>\n",
       "      <td>0</td>\n",
       "      <td>6</td>\n",
       "      <td>0</td>\n",
       "      <td>1</td>\n",
       "      <td>0.22</td>\n",
       "      <td>0.2727</td>\n",
       "      <td>0.80</td>\n",
       "      <td>0.0</td>\n",
       "      <td>5</td>\n",
       "      <td>27</td>\n",
       "      <td>32</td>\n",
       "    </tr>\n",
       "    <tr>\n",
       "      <th>3</th>\n",
       "      <td>4</td>\n",
       "      <td>2011-01-01</td>\n",
       "      <td>1</td>\n",
       "      <td>0</td>\n",
       "      <td>1</td>\n",
       "      <td>3</td>\n",
       "      <td>0</td>\n",
       "      <td>6</td>\n",
       "      <td>0</td>\n",
       "      <td>1</td>\n",
       "      <td>0.24</td>\n",
       "      <td>0.2879</td>\n",
       "      <td>0.75</td>\n",
       "      <td>0.0</td>\n",
       "      <td>3</td>\n",
       "      <td>10</td>\n",
       "      <td>13</td>\n",
       "    </tr>\n",
       "    <tr>\n",
       "      <th>4</th>\n",
       "      <td>5</td>\n",
       "      <td>2011-01-01</td>\n",
       "      <td>1</td>\n",
       "      <td>0</td>\n",
       "      <td>1</td>\n",
       "      <td>4</td>\n",
       "      <td>0</td>\n",
       "      <td>6</td>\n",
       "      <td>0</td>\n",
       "      <td>1</td>\n",
       "      <td>0.24</td>\n",
       "      <td>0.2879</td>\n",
       "      <td>0.75</td>\n",
       "      <td>0.0</td>\n",
       "      <td>0</td>\n",
       "      <td>1</td>\n",
       "      <td>1</td>\n",
       "    </tr>\n",
       "  </tbody>\n",
       "</table>\n",
       "</div>"
      ],
      "text/plain": [
       "   instant      dteday  season  yr  mnth  hr  holiday  weekday  workingday  \\\n",
       "0        1  2011-01-01       1   0     1   0        0        6           0   \n",
       "1        2  2011-01-01       1   0     1   1        0        6           0   \n",
       "2        3  2011-01-01       1   0     1   2        0        6           0   \n",
       "3        4  2011-01-01       1   0     1   3        0        6           0   \n",
       "4        5  2011-01-01       1   0     1   4        0        6           0   \n",
       "\n",
       "   weathersit  temp   atemp   hum  windspeed  casual  registered  cnt  \n",
       "0           1  0.24  0.2879  0.81        0.0       3          13   16  \n",
       "1           1  0.22  0.2727  0.80        0.0       8          32   40  \n",
       "2           1  0.22  0.2727  0.80        0.0       5          27   32  \n",
       "3           1  0.24  0.2879  0.75        0.0       3          10   13  \n",
       "4           1  0.24  0.2879  0.75        0.0       0           1    1  "
      ]
     },
     "execution_count": 40,
     "metadata": {},
     "output_type": "execute_result"
    }
   ],
   "source": [
    "hr.head()"
   ]
  },
  {
   "cell_type": "code",
   "execution_count": 41,
   "metadata": {},
   "outputs": [
    {
     "name": "stdout",
     "output_type": "stream",
     "text": [
      "<class 'pandas.core.frame.DataFrame'>\n",
      "RangeIndex: 17379 entries, 0 to 17378\n",
      "Data columns (total 17 columns):\n",
      " #   Column      Non-Null Count  Dtype  \n",
      "---  ------      --------------  -----  \n",
      " 0   instant     17379 non-null  int64  \n",
      " 1   dteday      17379 non-null  object \n",
      " 2   season      17379 non-null  int64  \n",
      " 3   yr          17379 non-null  int64  \n",
      " 4   mnth        17379 non-null  int64  \n",
      " 5   hr          17379 non-null  int64  \n",
      " 6   holiday     17379 non-null  int64  \n",
      " 7   weekday     17379 non-null  int64  \n",
      " 8   workingday  17379 non-null  int64  \n",
      " 9   weathersit  17379 non-null  int64  \n",
      " 10  temp        17379 non-null  float64\n",
      " 11  atemp       17379 non-null  float64\n",
      " 12  hum         17379 non-null  float64\n",
      " 13  windspeed   17379 non-null  float64\n",
      " 14  casual      17379 non-null  int64  \n",
      " 15  registered  17379 non-null  int64  \n",
      " 16  cnt         17379 non-null  int64  \n",
      "dtypes: float64(4), int64(12), object(1)\n",
      "memory usage: 2.3+ MB\n"
     ]
    }
   ],
   "source": [
    "hr.info()"
   ]
  },
  {
   "cell_type": "code",
   "execution_count": 42,
   "metadata": {},
   "outputs": [
    {
     "data": {
      "text/html": [
       "<div>\n",
       "<style scoped>\n",
       "    .dataframe tbody tr th:only-of-type {\n",
       "        vertical-align: middle;\n",
       "    }\n",
       "\n",
       "    .dataframe tbody tr th {\n",
       "        vertical-align: top;\n",
       "    }\n",
       "\n",
       "    .dataframe thead th {\n",
       "        text-align: right;\n",
       "    }\n",
       "</style>\n",
       "<table border=\"1\" class=\"dataframe\">\n",
       "  <thead>\n",
       "    <tr style=\"text-align: right;\">\n",
       "      <th></th>\n",
       "      <th>temp</th>\n",
       "      <th>atemp</th>\n",
       "      <th>hum</th>\n",
       "      <th>windspeed</th>\n",
       "      <th>casual</th>\n",
       "      <th>registered</th>\n",
       "      <th>cnt</th>\n",
       "    </tr>\n",
       "  </thead>\n",
       "  <tbody>\n",
       "    <tr>\n",
       "      <th>temp</th>\n",
       "      <td>1.000000</td>\n",
       "      <td>0.987672</td>\n",
       "      <td>-0.069881</td>\n",
       "      <td>-0.023125</td>\n",
       "      <td>0.459616</td>\n",
       "      <td>0.335361</td>\n",
       "      <td>0.404772</td>\n",
       "    </tr>\n",
       "    <tr>\n",
       "      <th>atemp</th>\n",
       "      <td>0.987672</td>\n",
       "      <td>1.000000</td>\n",
       "      <td>-0.051918</td>\n",
       "      <td>-0.062336</td>\n",
       "      <td>0.454080</td>\n",
       "      <td>0.332559</td>\n",
       "      <td>0.400929</td>\n",
       "    </tr>\n",
       "    <tr>\n",
       "      <th>hum</th>\n",
       "      <td>-0.069881</td>\n",
       "      <td>-0.051918</td>\n",
       "      <td>1.000000</td>\n",
       "      <td>-0.290105</td>\n",
       "      <td>-0.347028</td>\n",
       "      <td>-0.273933</td>\n",
       "      <td>-0.322911</td>\n",
       "    </tr>\n",
       "    <tr>\n",
       "      <th>windspeed</th>\n",
       "      <td>-0.023125</td>\n",
       "      <td>-0.062336</td>\n",
       "      <td>-0.290105</td>\n",
       "      <td>1.000000</td>\n",
       "      <td>0.090287</td>\n",
       "      <td>0.082321</td>\n",
       "      <td>0.093234</td>\n",
       "    </tr>\n",
       "    <tr>\n",
       "      <th>casual</th>\n",
       "      <td>0.459616</td>\n",
       "      <td>0.454080</td>\n",
       "      <td>-0.347028</td>\n",
       "      <td>0.090287</td>\n",
       "      <td>1.000000</td>\n",
       "      <td>0.506618</td>\n",
       "      <td>0.694564</td>\n",
       "    </tr>\n",
       "    <tr>\n",
       "      <th>registered</th>\n",
       "      <td>0.335361</td>\n",
       "      <td>0.332559</td>\n",
       "      <td>-0.273933</td>\n",
       "      <td>0.082321</td>\n",
       "      <td>0.506618</td>\n",
       "      <td>1.000000</td>\n",
       "      <td>0.972151</td>\n",
       "    </tr>\n",
       "    <tr>\n",
       "      <th>cnt</th>\n",
       "      <td>0.404772</td>\n",
       "      <td>0.400929</td>\n",
       "      <td>-0.322911</td>\n",
       "      <td>0.093234</td>\n",
       "      <td>0.694564</td>\n",
       "      <td>0.972151</td>\n",
       "      <td>1.000000</td>\n",
       "    </tr>\n",
       "  </tbody>\n",
       "</table>\n",
       "</div>"
      ],
      "text/plain": [
       "                temp     atemp       hum  windspeed    casual  registered  \\\n",
       "temp        1.000000  0.987672 -0.069881  -0.023125  0.459616    0.335361   \n",
       "atemp       0.987672  1.000000 -0.051918  -0.062336  0.454080    0.332559   \n",
       "hum        -0.069881 -0.051918  1.000000  -0.290105 -0.347028   -0.273933   \n",
       "windspeed  -0.023125 -0.062336 -0.290105   1.000000  0.090287    0.082321   \n",
       "casual      0.459616  0.454080 -0.347028   0.090287  1.000000    0.506618   \n",
       "registered  0.335361  0.332559 -0.273933   0.082321  0.506618    1.000000   \n",
       "cnt         0.404772  0.400929 -0.322911   0.093234  0.694564    0.972151   \n",
       "\n",
       "                 cnt  \n",
       "temp        0.404772  \n",
       "atemp       0.400929  \n",
       "hum        -0.322911  \n",
       "windspeed   0.093234  \n",
       "casual      0.694564  \n",
       "registered  0.972151  \n",
       "cnt         1.000000  "
      ]
     },
     "execution_count": 42,
     "metadata": {},
     "output_type": "execute_result"
    }
   ],
   "source": [
    "corr_matrix= hr[[\"temp\",\"atemp\",\"hum\", \"windspeed\", \"casual\", \"registered\", \"cnt\"]].corr()\n",
    "corr_matrix"
   ]
  },
  {
   "cell_type": "code",
   "execution_count": 43,
   "metadata": {},
   "outputs": [],
   "source": [
    "import matplotlib.pyplot as plt\n",
    "import seaborn as sns"
   ]
  },
  {
   "cell_type": "code",
   "execution_count": 44,
   "metadata": {},
   "outputs": [
    {
     "data": {
      "image/png": "[encoded data removed]",
      "text/plain": [
       "<Figure size 800x500 with 2 Axes>"
      ]
     },
     "metadata": {},
     "output_type": "display_data"
    }
   ],
   "source": [
    "# Plot the heatmap\n",
    "plt.figure(figsize=(8, 5))\n",
    "sns.heatmap(corr_matrix, annot=True, cmap='coolwarm', fmt='.2f')\n",
    "plt.title('Correlation Heatmap')\n",
    "plt.show()"
   ]
  },
  {
   "cell_type": "markdown",
   "metadata": {},
   "source": [
    "## Insights\n",
    "- There is a  strong positive correlation between temperature and count(count of total rental bikes including both casual and registered users). This      suggests    that higher temperatures lead to more bike rentals.\n",
    "- The variables \"temp\" and \"atemp\" are strongly correlated. Hence either we can use atemp(actual temperatutre) or temp.\n",
    "- Both casual and registered rentals have a positive correlation with temperature.\n",
    "- Both casual and registered rentals have a weak negative correlation with humidity.This indicates that higher humidity level leads decrease in bike rentals.\n",
    "- Windspeed has a negative correlation with count and a stronger negative correlation with registered, suggesting that higher wind speeds might slightly decrease bike rentals, particularly among registered users.\n"
   ]
  },
  {
   "cell_type": "markdown",
   "metadata": {
    "id": "ru-xlbd44IAY"
   },
   "source": [
    "## Q.15 Based on your analysis, provide a brief summary of any insights or patterns you discovered in the dataset."
   ]
  },
  {
   "cell_type": "markdown",
   "metadata": {
    "id": "15NUIdxK4I03"
   },
   "source": [
    "1. Temperature and Count\n",
    "   - There is a  strong positive correlation between temperature and count(count of total rental bikes including both casual and registered users).As temperature increases, more people are likely to rent bikes.\n",
    "2. Humidity and Count\n",
    "   - Both casual and registered rentals have a weak negative correlation with humidity.This indicates that humid days (especially in the summer) could reduce rental.\n",
    "3. Windspeed and Count\n",
    "   - Windspeed has a negative correlation with count and a stronger negative correlation with registered, suggesting that higher wind speeds might slightly decrease bike rentals, particularly among registered users.High winds can make cycling less pleasant and potentially more dangerous, leading to a decrease in rentals."
   ]
  },
  {
   "cell_type": "markdown",
   "metadata": {
    "id": "iMGro15Q5WhF"
   },
   "source": [
    "## Q.16 In which season (Spring, Summer, Fall, Winter) people rented bikes the most?"
   ]
  },
  {
   "cell_type": "code",
   "execution_count": 49,
   "metadata": {
    "id": "KhlVV_bK5jxm"
   },
   "outputs": [
    {
     "data": {
      "text/plain": [
       "array([1, 2, 3, 4], dtype=int64)"
      ]
     },
     "execution_count": 49,
     "metadata": {},
     "output_type": "execute_result"
    }
   ],
   "source": [
    "hr[\"season\"].unique() #Season of the year, coded as Winter=1, Spring=2, Summer=3, Fall=4."
   ]
  },
  {
   "cell_type": "code",
   "execution_count": 50,
   "metadata": {},
   "outputs": [
    {
     "data": {
      "text/plain": [
       "season\n",
       "1     471348\n",
       "2     918589\n",
       "3    1061129\n",
       "4     841613\n",
       "Name: cnt, dtype: int64"
      ]
     },
     "execution_count": 50,
     "metadata": {},
     "output_type": "execute_result"
    }
   ],
   "source": [
    "season_rentals = hr.groupby('season')['cnt'].sum()\n",
    "season_rentals"
   ]
  },
  {
   "cell_type": "code",
   "execution_count": 51,
   "metadata": {},
   "outputs": [
    {
     "data": {
      "image/png": "[encoded data removed]",
      "text/plain": [
       "<Figure size 800x500 with 1 Axes>"
      ]
     },
     "metadata": {},
     "output_type": "display_data"
    }
   ],
   "source": [
    "x = hr[\"season\"]\n",
    "y = hr [\"cnt\"]\n",
    "plt.figure(figsize=(8,5))\n",
    "sns.barplot(x ='season', y ='cnt',data = hr)\n",
    "plt.title('Total Bike Rentals by Season')\n",
    "plt.xlabel(\"Season\")\n",
    "plt.ylabel(\"Total Bike Rentals\")\n",
    "plt.show()"
   ]
  },
  {
   "cell_type": "markdown",
   "metadata": {},
   "source": [
    "## Insights\n",
    "- Summer season has the highest total rentals, of 1061129 rentals, indicating that this is the peak season for bike rentals.\n",
    "- Winter season has the lowest total rentals , of 471348."
   ]
  },
  {
   "cell_type": "markdown",
   "metadata": {
    "id": "eudb_1Lb5sVc"
   },
   "source": [
    "## Q.17 What is the peak hour in which bike rents the most?"
   ]
  },
  {
   "cell_type": "code",
   "execution_count": 54,
   "metadata": {
    "id": "p0xSgv8g50yt"
   },
   "outputs": [
    {
     "data": {
      "text/plain": [
       "hr\n",
       "0      39130\n",
       "1      24164\n",
       "2      16352\n",
       "3       8174\n",
       "4       4428\n",
       "5      14261\n",
       "6      55132\n",
       "7     154171\n",
       "8     261001\n",
       "9     159438\n",
       "10    126257\n",
       "11    151320\n",
       "12    184414\n",
       "13    184919\n",
       "14    175652\n",
       "15    183149\n",
       "16    227748\n",
       "17    336860\n",
       "18    309772\n",
       "19    226789\n",
       "20    164550\n",
       "21    125445\n",
       "22     95612\n",
       "23     63941\n",
       "Name: cnt, dtype: int64"
      ]
     },
     "execution_count": 54,
     "metadata": {},
     "output_type": "execute_result"
    }
   ],
   "source": [
    "hr_rentals = hr.groupby('hr')['cnt'].sum()\n",
    "hr_rentals"
   ]
  },
  {
   "cell_type": "code",
   "execution_count": 55,
   "metadata": {},
   "outputs": [
    {
     "name": "stdout",
     "output_type": "stream",
     "text": [
      "The peak hour is 17:00 with 336860 total rentals.\n"
     ]
    }
   ],
   "source": [
    "peak_hr = hr_rentals.idxmax()\n",
    "peak_hr_rentals = hr_rentals.max()\n",
    "print(f\"The peak hour is {peak_hr}:00 with {peak_hr_rentals} total rentals.\")"
   ]
  },
  {
   "cell_type": "markdown",
   "metadata": {
    "id": "y7rArqGQ6ji4"
   },
   "source": [
    "## Q.18 In which day of a week bikes rents out most?"
   ]
  },
  {
   "cell_type": "code",
   "execution_count": 108,
   "metadata": {},
   "outputs": [
    {
     "data": {
      "text/plain": [
       "array([6, 0, 1, 2, 3, 4, 5], dtype=int64)"
      ]
     },
     "execution_count": 108,
     "metadata": {},
     "output_type": "execute_result"
    }
   ],
   "source": [
    "hr[\"weekday\"].unique() #Day of the week, coded from 0 to 6, where Sunday=0, Monday=1, Tuesday=2, Wednesday=3 ,Thursday=4, Friday=5 and Saturday=6."
   ]
  },
  {
   "cell_type": "code",
   "execution_count": 114,
   "metadata": {
    "id": "6GPCbpsx6oYE"
   },
   "outputs": [
    {
     "name": "stdout",
     "output_type": "stream",
     "text": [
      "The day with the most bike rentals is 5 with 487790 total rentals.\n"
     ]
    }
   ],
   "source": [
    "day_rentals = hr.groupby('weekday')['cnt'].sum()\n",
    "peak_day = day_rentals.idxmax()\n",
    "peak_day_rentals = day_rentals.max()\n",
    "print(f\"The day with the most bike rentals is {peak_day} with {peak_day_rentals} total rentals.\")"
   ]
  },
  {
   "cell_type": "markdown",
   "metadata": {
    "id": "bFO_Twk66qw-"
   },
   "source": [
    "## Q.19 In which hour Casual users rents bikes the most?"
   ]
  },
  {
   "cell_type": "code",
   "execution_count": 59,
   "metadata": {
    "id": "59CHoEUt66GR"
   },
   "outputs": [
    {
     "data": {
      "text/plain": [
       "hr\n",
       "0      7375\n",
       "1      4709\n",
       "2      3412\n",
       "3      1893\n",
       "4       874\n",
       "5      1012\n",
       "6      3017\n",
       "7      8037\n",
       "8     15761\n",
       "9     22458\n",
       "10    33789\n",
       "11    43286\n",
       "12    49718\n",
       "13    52713\n",
       "14    55089\n",
       "15    54606\n",
       "16    53834\n",
       "17    54220\n",
       "18    44496\n",
       "19    35505\n",
       "20    26378\n",
       "21    20570\n",
       "22    16200\n",
       "23    11065\n",
       "Name: casual, dtype: int64"
      ]
     },
     "execution_count": 59,
     "metadata": {},
     "output_type": "execute_result"
    }
   ],
   "source": [
    "hr_rentals1 = hr.groupby('hr')['casual'].sum()\n",
    "hr_rentals1"
   ]
  },
  {
   "cell_type": "code",
   "execution_count": 60,
   "metadata": {},
   "outputs": [
    {
     "name": "stdout",
     "output_type": "stream",
     "text": [
      "The peak hour of casual users is 14:00 with 55089 total rentals.\n"
     ]
    }
   ],
   "source": [
    "peak_hr_casual = hr_rentals1.idxmax()\n",
    "peak_hr_casual_rentals = hr_rentals1.max()\n",
    "print(f\"The peak hour of casual users is {peak_hr_casual}:00 with {peak_hr_casual_rentals} total rentals.\")"
   ]
  },
  {
   "cell_type": "markdown",
   "metadata": {
    "id": "wtvgNN-U69rh"
   },
   "source": [
    "## Q.20 What is the maximum temperature observed in each of the seasons?"
   ]
  },
  {
   "cell_type": "code",
   "execution_count": 62,
   "metadata": {
    "id": "U_NwDHv57tLT"
   },
   "outputs": [
    {
     "data": {
      "text/plain": [
       "season\n",
       "1    1268.98\n",
       "2    2401.42\n",
       "3    3176.02\n",
       "4    1790.72\n",
       "Name: temp, dtype: float64"
      ]
     },
     "execution_count": 62,
     "metadata": {},
     "output_type": "execute_result"
    }
   ],
   "source": [
    "temp_rentals = hr.groupby('season')['temp'].sum()\n",
    "temp_rentals"
   ]
  },
  {
   "cell_type": "code",
   "execution_count": 63,
   "metadata": {},
   "outputs": [
    {
     "name": "stdout",
     "output_type": "stream",
     "text": [
      "The maximum temperature is 3176.02 corresponding to 3 .\n"
     ]
    }
   ],
   "source": [
    "temp_max = temp_rentals.idxmax()\n",
    "temp_max_season = temp_rentals.max()\n",
    "print(f\"The maximum temperature is {temp_max_season} corresponding to {temp_max} .\")"
   ]
  },
  {
   "cell_type": "markdown",
   "metadata": {},
   "source": [
    "- The maximum temperature observed is 3176.02 corresponding to summer season\n",
    "- The minimum temperature observed is 1268.98 corresponding to winter season"
   ]
  },
  {
   "cell_type": "code",
   "execution_count": null,
   "metadata": {},
   "outputs": [],
   "source": []
  }
 ],
 "metadata": {
  "colab": {
   "provenance": []
  },
  "kernelspec": {
   "display_name": "Python 3 (ipykernel)",
   "language": "python",
   "name": "python3"
  },
  "language_info": {
   "codemirror_mode": {
    "name": "ipython",
    "version": 3
   },
   "file_extension": ".py",
   "mimetype": "text/x-python",
   "name": "python",
   "nbconvert_exporter": "python",
   "pygments_lexer": "ipython3",
   "version": "3.12.7"
  }
 },
 "nbformat": 4,
 "nbformat_minor": 4
}
