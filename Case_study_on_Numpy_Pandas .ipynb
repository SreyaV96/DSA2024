{
 "cells": [
  {
   "cell_type": "markdown",
   "id": "a8228bef-7882-4035-abe3-7cf2735e38be",
   "metadata": {},
   "source": [
    "## NumPy Problems"
   ]
  },
  {
   "cell_type": "markdown",
   "id": "c0d929c7-d255-4077-ad00-6f45e91e6deb",
   "metadata": {},
   "source": [
    "## 1. Basic Array Operations\n",
    "Convert the mpg column into a NumPy array and calculate:\n",
    "- The mean, median, and standard deviation of mpg.\n",
    "- The number of cars with mpg greater than 25."
   ]
  },
  {
   "cell_type": "code",
   "execution_count": 3,
   "id": "02868d4d-36b4-4a64-a862-4e85a455594b",
   "metadata": {},
   "outputs": [],
   "source": [
    "import numpy as np\n",
    "import pandas as pd"
   ]
  },
  {
   "cell_type": "code",
   "execution_count": 4,
   "id": "a3a38f55-ac60-469c-899b-49e305c5fc59",
   "metadata": {},
   "outputs": [
    {
     "data": {
      "text/html": [
       "<div>\n",
       "<style scoped>\n",
       "    .dataframe tbody tr th:only-of-type {\n",
       "        vertical-align: middle;\n",
       "    }\n",
       "\n",
       "    .dataframe tbody tr th {\n",
       "        vertical-align: top;\n",
       "    }\n",
       "\n",
       "    .dataframe thead th {\n",
       "        text-align: right;\n",
       "    }\n",
       "</style>\n",
       "<table border=\"1\" class=\"dataframe\">\n",
       "  <thead>\n",
       "    <tr style=\"text-align: right;\">\n",
       "      <th></th>\n",
       "      <th>mpg</th>\n",
       "      <th>cylinders</th>\n",
       "      <th>displacement</th>\n",
       "      <th>horsepower</th>\n",
       "      <th>weight</th>\n",
       "      <th>acceleration</th>\n",
       "      <th>model year</th>\n",
       "      <th>origin</th>\n",
       "      <th>car name</th>\n",
       "    </tr>\n",
       "  </thead>\n",
       "  <tbody>\n",
       "    <tr>\n",
       "      <th>0</th>\n",
       "      <td>18.0</td>\n",
       "      <td>8</td>\n",
       "      <td>307.0</td>\n",
       "      <td>130</td>\n",
       "      <td>3504</td>\n",
       "      <td>12.0</td>\n",
       "      <td>70</td>\n",
       "      <td>1</td>\n",
       "      <td>chevrolet chevelle malibu</td>\n",
       "    </tr>\n",
       "    <tr>\n",
       "      <th>1</th>\n",
       "      <td>15.0</td>\n",
       "      <td>8</td>\n",
       "      <td>350.0</td>\n",
       "      <td>165</td>\n",
       "      <td>3693</td>\n",
       "      <td>11.5</td>\n",
       "      <td>70</td>\n",
       "      <td>1</td>\n",
       "      <td>buick skylark 320</td>\n",
       "    </tr>\n",
       "    <tr>\n",
       "      <th>2</th>\n",
       "      <td>18.0</td>\n",
       "      <td>8</td>\n",
       "      <td>318.0</td>\n",
       "      <td>150</td>\n",
       "      <td>3436</td>\n",
       "      <td>11.0</td>\n",
       "      <td>70</td>\n",
       "      <td>1</td>\n",
       "      <td>plymouth satellite</td>\n",
       "    </tr>\n",
       "  </tbody>\n",
       "</table>\n",
       "</div>"
      ],
      "text/plain": [
       "    mpg  cylinders  displacement horsepower  weight  acceleration  model year  \\\n",
       "0  18.0          8         307.0        130    3504          12.0          70   \n",
       "1  15.0          8         350.0        165    3693          11.5          70   \n",
       "2  18.0          8         318.0        150    3436          11.0          70   \n",
       "\n",
       "   origin                   car name  \n",
       "0       1  chevrolet chevelle malibu  \n",
       "1       1          buick skylark 320  \n",
       "2       1         plymouth satellite  "
      ]
     },
     "execution_count": 4,
     "metadata": {},
     "output_type": "execute_result"
    }
   ],
   "source": [
    "df = pd.read_csv (\"C:\\\\Users\\\\sachi\\\\Downloads\\\\auto-mpg.csv\")\n",
    "df.head(3)"
   ]
  },
  {
   "cell_type": "code",
   "execution_count": 5,
   "id": "413bac3e-1552-407f-92ff-9d0d7866fa6e",
   "metadata": {},
   "outputs": [
    {
     "data": {
      "text/plain": [
       "(398, 9)"
      ]
     },
     "execution_count": 5,
     "metadata": {},
     "output_type": "execute_result"
    }
   ],
   "source": [
    "df.shape"
   ]
  },
  {
   "cell_type": "code",
   "execution_count": 6,
   "id": "bf73c05a-81e1-4c22-80b2-1206ea819356",
   "metadata": {},
   "outputs": [],
   "source": [
    "arr_mpg = np.array(df[\"mpg\"])"
   ]
  },
  {
   "cell_type": "code",
   "execution_count": 7,
   "id": "5a5b84b2-e745-41dd-80ca-331377361e80",
   "metadata": {},
   "outputs": [
    {
     "data": {
      "text/plain": [
       "23.514572864321607"
      ]
     },
     "execution_count": 7,
     "metadata": {},
     "output_type": "execute_result"
    }
   ],
   "source": [
    "mean_mpg = np. mean(arr_mpg)\n",
    "mean_mpg"
   ]
  },
  {
   "cell_type": "code",
   "execution_count": 8,
   "id": "36635132-4b24-4d44-a0d2-f6e11cb3ec48",
   "metadata": {},
   "outputs": [
    {
     "data": {
      "text/plain": [
       "23.0"
      ]
     },
     "execution_count": 8,
     "metadata": {},
     "output_type": "execute_result"
    }
   ],
   "source": [
    "median_mpg = np.median(arr_mpg)\n",
    "median_mpg"
   ]
  },
  {
   "cell_type": "code",
   "execution_count": 9,
   "id": "fe042e1f-e13d-4f08-8b5d-1c5337b6200d",
   "metadata": {},
   "outputs": [
    {
     "data": {
      "text/plain": [
       "7.806159061274433"
      ]
     },
     "execution_count": 9,
     "metadata": {},
     "output_type": "execute_result"
    }
   ],
   "source": [
    "std_mpg = np.std(arr_mpg)\n",
    "std_mpg"
   ]
  },
  {
   "cell_type": "code",
   "execution_count": 10,
   "id": "ab3750ee-5c23-4533-b2a7-56d00e1cbe77",
   "metadata": {},
   "outputs": [
    {
     "data": {
      "text/plain": [
       "mpg\n",
       "False    240\n",
       "True     158\n",
       "Name: count, dtype: int64"
      ]
     },
     "execution_count": 10,
     "metadata": {},
     "output_type": "execute_result"
    }
   ],
   "source": [
    "new_cars = df[\"mpg\"]>25\n",
    "new_cars.value_counts() #158  cars with mpg greater than 25"
   ]
  },
  {
   "cell_type": "code",
   "execution_count": 11,
   "id": "af7d37f6-e014-442d-a18e-9e4dc0750ff6",
   "metadata": {},
   "outputs": [],
   "source": [
    "#158  cars with mpg greater than 25"
   ]
  },
  {
   "cell_type": "code",
   "execution_count": 12,
   "id": "57d444d3-bb55-442a-a669-aae20db6a156",
   "metadata": {},
   "outputs": [
    {
     "name": "stdout",
     "output_type": "stream",
     "text": [
      "158\n"
     ]
    }
   ],
   "source": [
    "#another way\n",
    "count = len([i for i in arr_mpg if i>25])\n",
    "print (count)"
   ]
  },
  {
   "cell_type": "markdown",
   "id": "1cf40883-7a69-43f3-b613-42bee93d0887",
   "metadata": {},
   "source": [
    "## 2. Filtering\n",
    "- Using NumPy, ﬁlter all cars with more than 6 cylinders.\n",
    "- Return the corresponding car_name as a list."
   ]
  },
  {
   "cell_type": "code",
   "execution_count": 14,
   "id": "56353bab-43d3-4734-bb16-c79024a7b202",
   "metadata": {},
   "outputs": [
    {
     "data": {
      "text/html": [
       "<div>\n",
       "<style scoped>\n",
       "    .dataframe tbody tr th:only-of-type {\n",
       "        vertical-align: middle;\n",
       "    }\n",
       "\n",
       "    .dataframe tbody tr th {\n",
       "        vertical-align: top;\n",
       "    }\n",
       "\n",
       "    .dataframe thead th {\n",
       "        text-align: right;\n",
       "    }\n",
       "</style>\n",
       "<table border=\"1\" class=\"dataframe\">\n",
       "  <thead>\n",
       "    <tr style=\"text-align: right;\">\n",
       "      <th></th>\n",
       "      <th>mpg</th>\n",
       "      <th>cylinders</th>\n",
       "      <th>displacement</th>\n",
       "      <th>horsepower</th>\n",
       "      <th>weight</th>\n",
       "      <th>acceleration</th>\n",
       "      <th>model year</th>\n",
       "      <th>origin</th>\n",
       "      <th>car name</th>\n",
       "    </tr>\n",
       "  </thead>\n",
       "  <tbody>\n",
       "    <tr>\n",
       "      <th>0</th>\n",
       "      <td>18.0</td>\n",
       "      <td>8</td>\n",
       "      <td>307.0</td>\n",
       "      <td>130</td>\n",
       "      <td>3504</td>\n",
       "      <td>12.0</td>\n",
       "      <td>70</td>\n",
       "      <td>1</td>\n",
       "      <td>chevrolet chevelle malibu</td>\n",
       "    </tr>\n",
       "    <tr>\n",
       "      <th>1</th>\n",
       "      <td>15.0</td>\n",
       "      <td>8</td>\n",
       "      <td>350.0</td>\n",
       "      <td>165</td>\n",
       "      <td>3693</td>\n",
       "      <td>11.5</td>\n",
       "      <td>70</td>\n",
       "      <td>1</td>\n",
       "      <td>buick skylark 320</td>\n",
       "    </tr>\n",
       "    <tr>\n",
       "      <th>2</th>\n",
       "      <td>18.0</td>\n",
       "      <td>8</td>\n",
       "      <td>318.0</td>\n",
       "      <td>150</td>\n",
       "      <td>3436</td>\n",
       "      <td>11.0</td>\n",
       "      <td>70</td>\n",
       "      <td>1</td>\n",
       "      <td>plymouth satellite</td>\n",
       "    </tr>\n",
       "    <tr>\n",
       "      <th>3</th>\n",
       "      <td>16.0</td>\n",
       "      <td>8</td>\n",
       "      <td>304.0</td>\n",
       "      <td>150</td>\n",
       "      <td>3433</td>\n",
       "      <td>12.0</td>\n",
       "      <td>70</td>\n",
       "      <td>1</td>\n",
       "      <td>amc rebel sst</td>\n",
       "    </tr>\n",
       "    <tr>\n",
       "      <th>4</th>\n",
       "      <td>17.0</td>\n",
       "      <td>8</td>\n",
       "      <td>302.0</td>\n",
       "      <td>140</td>\n",
       "      <td>3449</td>\n",
       "      <td>10.5</td>\n",
       "      <td>70</td>\n",
       "      <td>1</td>\n",
       "      <td>ford torino</td>\n",
       "    </tr>\n",
       "  </tbody>\n",
       "</table>\n",
       "</div>"
      ],
      "text/plain": [
       "    mpg  cylinders  displacement horsepower  weight  acceleration  model year  \\\n",
       "0  18.0          8         307.0        130    3504          12.0          70   \n",
       "1  15.0          8         350.0        165    3693          11.5          70   \n",
       "2  18.0          8         318.0        150    3436          11.0          70   \n",
       "3  16.0          8         304.0        150    3433          12.0          70   \n",
       "4  17.0          8         302.0        140    3449          10.5          70   \n",
       "\n",
       "   origin                   car name  \n",
       "0       1  chevrolet chevelle malibu  \n",
       "1       1          buick skylark 320  \n",
       "2       1         plymouth satellite  \n",
       "3       1              amc rebel sst  \n",
       "4       1                ford torino  "
      ]
     },
     "execution_count": 14,
     "metadata": {},
     "output_type": "execute_result"
    }
   ],
   "source": [
    "df_1 = df[df[\"cylinders\"]>6]\n",
    "df_1.head()"
   ]
  },
  {
   "cell_type": "code",
   "execution_count": 15,
   "id": "87f75322-1436-4dd7-8c86-8120b462858d",
   "metadata": {},
   "outputs": [
    {
     "data": {
      "text/plain": [
       "['chevrolet chevelle malibu',\n",
       " 'buick skylark 320',\n",
       " 'plymouth satellite',\n",
       " 'amc rebel sst',\n",
       " 'ford torino',\n",
       " 'ford galaxie 500',\n",
       " 'chevrolet impala',\n",
       " 'plymouth fury iii',\n",
       " 'pontiac catalina',\n",
       " 'amc ambassador dpl',\n",
       " 'dodge challenger se',\n",
       " \"plymouth 'cuda 340\",\n",
       " 'chevrolet monte carlo',\n",
       " 'buick estate wagon (sw)',\n",
       " 'ford f250',\n",
       " 'chevy c20',\n",
       " 'dodge d200',\n",
       " 'hi 1200d',\n",
       " 'chevrolet impala',\n",
       " 'pontiac catalina brougham',\n",
       " 'ford galaxie 500',\n",
       " 'plymouth fury iii',\n",
       " 'dodge monaco (sw)',\n",
       " 'ford country squire (sw)',\n",
       " 'pontiac safari (sw)',\n",
       " 'chevrolet impala',\n",
       " 'pontiac catalina',\n",
       " 'plymouth fury iii',\n",
       " 'ford galaxie 500',\n",
       " 'amc ambassador sst',\n",
       " 'mercury marquis',\n",
       " 'buick lesabre custom',\n",
       " 'oldsmobile delta 88 royale',\n",
       " 'chrysler newport royal',\n",
       " 'amc matador (sw)',\n",
       " 'chevrolet chevelle concours (sw)',\n",
       " 'ford gran torino (sw)',\n",
       " 'plymouth satellite custom (sw)',\n",
       " 'buick century 350',\n",
       " 'amc matador',\n",
       " 'chevrolet malibu',\n",
       " 'ford gran torino',\n",
       " 'dodge coronet custom',\n",
       " 'mercury marquis brougham',\n",
       " 'chevrolet caprice classic',\n",
       " 'ford ltd',\n",
       " 'plymouth fury gran sedan',\n",
       " 'chrysler new yorker brougham',\n",
       " 'buick electra 225 custom',\n",
       " 'amc ambassador brougham',\n",
       " 'chevrolet impala',\n",
       " 'ford country',\n",
       " 'plymouth custom suburb',\n",
       " 'oldsmobile vista cruiser',\n",
       " 'chevrolet monte carlo s',\n",
       " 'pontiac grand prix',\n",
       " 'dodge dart custom',\n",
       " 'oldsmobile omega',\n",
       " 'ford gran torino',\n",
       " 'buick century luxus (sw)',\n",
       " 'dodge coronet custom (sw)',\n",
       " 'ford gran torino (sw)',\n",
       " 'amc matador (sw)',\n",
       " 'pontiac catalina',\n",
       " 'chevrolet bel air',\n",
       " 'plymouth grand fury',\n",
       " 'ford ltd',\n",
       " 'chevrolet monza 2+2',\n",
       " 'ford mustang ii',\n",
       " 'chevrolet chevelle malibu classic',\n",
       " 'dodge coronet brougham',\n",
       " 'amc matador',\n",
       " 'ford gran torino',\n",
       " 'plymouth volare premier v8',\n",
       " 'cadillac seville',\n",
       " 'chevy c10',\n",
       " 'ford f108',\n",
       " 'dodge d100',\n",
       " 'chevrolet caprice classic',\n",
       " 'oldsmobile cutlass supreme',\n",
       " 'dodge monaco brougham',\n",
       " 'mercury cougar brougham',\n",
       " 'pontiac grand prix lj',\n",
       " 'chevrolet monte carlo landau',\n",
       " 'chrysler cordoba',\n",
       " 'ford thunderbird',\n",
       " 'oldsmobile cutlass salon brougham',\n",
       " 'dodge diplomat',\n",
       " 'mercury monarch ghia',\n",
       " 'chevrolet monte carlo landau',\n",
       " 'ford futura',\n",
       " 'dodge magnum xe',\n",
       " 'chevrolet caprice classic',\n",
       " 'ford ltd landau',\n",
       " 'mercury grand marquis',\n",
       " 'dodge st. regis',\n",
       " 'buick estate wagon (sw)',\n",
       " 'ford country squire (sw)',\n",
       " 'chevrolet malibu classic (sw)',\n",
       " 'chrysler lebaron town @ country (sw)',\n",
       " 'cadillac eldorado',\n",
       " 'oldsmobile cutlass salon brougham',\n",
       " 'oldsmobile cutlass ls']"
      ]
     },
     "execution_count": 15,
     "metadata": {},
     "output_type": "execute_result"
    }
   ],
   "source": [
    "car_name = df_1[\"car name\"].tolist()\n",
    "car_name"
   ]
  },
  {
   "cell_type": "markdown",
   "id": "06c9b671-26d2-4675-9799-7759f51d067d",
   "metadata": {},
   "source": [
    "## 3. Statistical Analysis\n",
    "- Compute the 25th, 50th, and 75th percentiles of the weight column using NumPy."
   ]
  },
  {
   "cell_type": "code",
   "execution_count": 17,
   "id": "2997f108-8580-45ba-8682-8927efe48479",
   "metadata": {},
   "outputs": [
    {
     "name": "stdout",
     "output_type": "stream",
     "text": [
      "25th percentile is  2223.75\n"
     ]
    }
   ],
   "source": [
    "print(\"25th percentile is \", np.percentile(df[\"weight\"], 25))"
   ]
  },
  {
   "cell_type": "code",
   "execution_count": 18,
   "id": "79d7a7e8-fba1-480f-9392-2ddc02da4f96",
   "metadata": {},
   "outputs": [
    {
     "name": "stdout",
     "output_type": "stream",
     "text": [
      "50th percentile is  2803.5\n"
     ]
    }
   ],
   "source": [
    "print(\"50th percentile is \", np.percentile(df[\"weight\"], 50))"
   ]
  },
  {
   "cell_type": "code",
   "execution_count": 19,
   "id": "01e72fc7-3efa-4f14-8d39-764df1cce92a",
   "metadata": {},
   "outputs": [
    {
     "name": "stdout",
     "output_type": "stream",
     "text": [
      "75th percentile is  3608.0\n"
     ]
    }
   ],
   "source": [
    "print(\"75th percentile is \", np.percentile(df[\"weight\"], 75))"
   ]
  },
  {
   "cell_type": "markdown",
   "id": "9a965f9e-fb47-444f-84e3-91f9430c866a",
   "metadata": {},
   "source": [
    "## 4. Array Manipulation\n",
    "- Convert the acceleration column into a NumPy array and normalize its values\n",
    "(scale between 0 and 1)."
   ]
  },
  {
   "cell_type": "code",
   "execution_count": 21,
   "id": "3dfe7c03-55b7-4933-8fd4-6e5b1baf0c28",
   "metadata": {},
   "outputs": [
    {
     "data": {
      "text/plain": [
       "array([0.23809524, 0.20833333, 0.17857143, 0.23809524, 0.14880952,\n",
       "       0.11904762, 0.05952381, 0.0297619 , 0.11904762, 0.0297619 ,\n",
       "       0.11904762, 0.        , 0.08928571, 0.11904762, 0.41666667,\n",
       "       0.44642857, 0.44642857, 0.47619048, 0.38690476, 0.74404762,\n",
       "       0.56547619, 0.38690476, 0.56547619, 0.26785714, 0.41666667,\n",
       "       0.35714286, 0.41666667, 0.32738095, 0.625     , 0.38690476,\n",
       "       0.44642857, 0.35714286, 0.6547619 , 0.29761905, 0.44642857,\n",
       "       0.44642857, 0.44642857, 0.44642857, 0.23809524, 0.20833333,\n",
       "       0.32738095, 0.29761905, 0.20833333, 0.23809524, 0.23809524,\n",
       "       0.32738095, 0.6547619 , 0.41666667, 0.38690476, 0.35714286,\n",
       "       0.35714286, 0.68452381, 0.38690476, 0.6547619 , 0.5952381 ,\n",
       "       0.6547619 , 0.74404762, 0.44642857, 0.53571429, 0.92261905,\n",
       "       0.68452381, 0.50595238, 0.23809524, 0.23809524, 0.32738095,\n",
       "       0.29761905, 0.20833333, 0.17857143, 0.32738095, 0.32738095,\n",
       "       0.26785714, 0.32738095, 0.26785714, 0.35714286, 0.47619048,\n",
       "       0.35714286, 0.38690476, 0.5952381 , 0.68452381, 0.5952381 ,\n",
       "       0.47619048, 0.53571429, 0.38690476, 0.41666667, 0.50595238,\n",
       "       0.29761905, 0.20833333, 0.29761905, 0.38690476, 0.26785714,\n",
       "       0.20833333, 0.23809524, 0.29761905, 0.38690476, 0.17857143,\n",
       "       0.17857143, 0.17857143, 0.50595238, 0.5952381 , 0.47619048,\n",
       "       0.50595238, 0.47619048, 0.77380952, 0.35714286, 0.26785714,\n",
       "       0.29761905, 0.26785714, 0.41666667, 0.6547619 , 0.68452381,\n",
       "       0.50595238, 0.32738095, 0.625     , 0.35714286, 0.44642857,\n",
       "       0.29761905, 0.08928571, 0.68452381, 0.44642857, 0.35714286,\n",
       "       0.44642857, 0.17857143, 0.35714286, 0.32738095, 0.17857143,\n",
       "       0.50595238, 0.53571429, 0.47619048, 0.53571429, 0.6547619 ,\n",
       "       0.50595238, 0.77380952, 0.53571429, 0.53571429, 0.5952381 ,\n",
       "       0.50595238, 0.35714286, 0.38690476, 0.32738095, 0.47619048,\n",
       "       0.44642857, 0.50595238, 0.44642857, 0.38690476, 0.50595238,\n",
       "       0.6547619 , 0.38690476, 0.44642857, 0.35714286, 0.41666667,\n",
       "       0.44642857, 0.47619048, 0.47619048, 0.47619048, 0.77380952,\n",
       "       0.68452381, 0.20833333, 0.35714286, 0.38690476, 0.32738095,\n",
       "       0.77380952, 0.625     , 0.6547619 , 0.6547619 , 0.41666667,\n",
       "       0.32738095, 0.23809524, 0.47619048, 0.53571429, 0.47619048,\n",
       "       0.625     , 0.32738095, 0.50595238, 0.53571429, 0.38690476,\n",
       "       0.35714286, 0.53571429, 0.41666667, 0.53571429, 0.38690476,\n",
       "       0.32738095, 0.56547619, 0.44642857, 0.5297619 , 0.41071429,\n",
       "       0.57738095, 0.43452381, 0.29761905, 0.29761905, 0.35119048,\n",
       "       0.28571429, 0.44047619, 0.38690476, 0.57142857, 0.57142857,\n",
       "       0.8452381 , 0.83928571, 0.36904762, 0.55952381, 0.57738095,\n",
       "       0.77380952, 0.48809524, 0.58333333, 0.25      , 0.53571429,\n",
       "       0.5       , 0.33333333, 0.45833333, 0.30952381, 0.82738095,\n",
       "       0.44642857, 0.51785714, 0.24404762, 0.23809524, 0.41666667,\n",
       "       0.35714286, 0.625     , 0.4047619 , 0.63095238, 0.44642857,\n",
       "       0.52380952, 0.26785714, 0.6547619 , 0.33928571, 0.41071429,\n",
       "       0.5       , 0.5297619 , 0.57738095, 0.6547619 , 0.18452381,\n",
       "       0.20238095, 0.25      , 0.38690476, 0.38690476, 0.47619048,\n",
       "       0.60714286, 0.46428571, 0.53571429, 0.4702381 , 0.5       ,\n",
       "       0.36309524, 0.38690476, 0.28571429, 0.32738095, 0.80357143,\n",
       "       0.38095238, 0.67857143, 0.63095238, 0.5       , 0.44642857,\n",
       "       0.30952381, 0.28571429, 0.66666667, 0.60714286, 0.46428571,\n",
       "       0.44047619, 0.54761905, 0.54761905, 0.46428571, 0.51785714,\n",
       "       0.63690476, 0.42261905, 0.30952381, 0.32142857, 0.19047619,\n",
       "       0.33928571, 0.50595238, 0.36904762, 0.39880952, 0.38690476,\n",
       "       0.4047619 , 0.51785714, 0.57142857, 0.41071429, 0.4702381 ,\n",
       "       0.33333333, 0.45833333, 0.46428571, 0.41071429, 0.51190476,\n",
       "       0.44047619, 0.60714286, 0.55357143, 0.60714286, 0.51190476,\n",
       "       0.44047619, 0.32142857, 0.30952381, 0.42857143, 0.41071429,\n",
       "       0.375     , 0.41666667, 0.29761905, 0.35714286, 0.42857143,\n",
       "       0.38095238, 0.41666667, 0.7202381 , 0.55952381, 1.        ,\n",
       "       0.8452381 , 0.30952381, 0.41071429, 0.66666667, 0.39880952,\n",
       "       0.47619048, 0.19642857, 0.29166667, 0.30952381, 0.39880952,\n",
       "       0.64285714, 0.44642857, 0.5       , 0.50595238, 0.60119048,\n",
       "       0.7202381 , 0.63690476, 0.46428571, 0.44642857, 0.56547619,\n",
       "       0.41666667, 0.42857143, 0.58928571, 0.38095238, 0.66666667,\n",
       "       0.81547619, 0.93452381, 0.70833333, 0.82142857, 0.3452381 ,\n",
       "       0.55357143, 0.5952381 , 0.43452381, 0.20238095, 0.26785714,\n",
       "       0.42261905, 0.375     , 0.53571429, 0.45833333, 0.5       ,\n",
       "       0.38095238, 0.27380952, 0.29166667, 0.5297619 , 0.5       ,\n",
       "       0.48214286, 0.58333333, 0.67857143, 0.55357143, 0.47619048,\n",
       "       0.41071429, 0.48809524, 0.75595238, 0.36904762, 0.46428571,\n",
       "       0.38095238, 0.52380952, 0.4047619 , 0.61309524, 0.73809524,\n",
       "       0.69047619, 0.27380952, 0.3452381 , 0.46428571, 0.6547619 ,\n",
       "       0.54166667, 0.51190476, 0.69047619, 0.63095238, 0.5952381 ,\n",
       "       0.48809524, 0.47619048, 0.5952381 , 0.5       , 0.74404762,\n",
       "       0.43452381, 0.60714286, 0.57142857, 0.39880952, 0.55357143,\n",
       "       0.38690476, 0.38690476, 0.5297619 , 0.41666667, 0.45833333,\n",
       "       0.48809524, 0.5       , 0.53571429, 0.38690476, 0.39880952,\n",
       "       0.35119048, 0.29761905, 0.55357143, 0.45238095, 0.98809524,\n",
       "       0.21428571, 0.63095238, 0.67857143])"
      ]
     },
     "execution_count": 21,
     "metadata": {},
     "output_type": "execute_result"
    }
   ],
   "source": [
    "arr_acc = np.array(df[\"acceleration\"]) #min-max scaling\n",
    "normalizedData = (arr_acc-np.min(arr_acc))/(np.max(arr_acc)-np.min(arr_acc)) \n",
    "normalizedData"
   ]
  },
  {
   "cell_type": "markdown",
   "id": "410ebb1b-9dc9-45bd-b92e-3c3443714638",
   "metadata": {},
   "source": [
    "## 5. Broadcasting\n",
    "- Increase all horsepower values by 10% and store the updated values in a new NumPy array. Handle missing data (if any) by replacing it with the mean of the column before applying the increase."
   ]
  },
  {
   "cell_type": "code",
   "execution_count": 23,
   "id": "1b268e62-b089-460a-8a28-d98f8db5d813",
   "metadata": {},
   "outputs": [
    {
     "data": {
      "text/plain": [
       "array([143. , 181.5, 165. , 165. , 154. , 217.8, 242. , 236.5, 247.5,\n",
       "       209. , 187. , 176. , 165. , 247.5, 104.5, 104.5, 106.7,  93.5,\n",
       "        96.8,  50.6,  95.7,  99. , 104.5, 124.3,  99. , 236.5, 220. ,\n",
       "       231. , 212.3,  96.8,  99. , 104.5,   nan, 110. , 115.5, 110. ,\n",
       "        96.8, 110. , 181.5, 192.5, 168.3, 165. , 198. , 187. , 192.5,\n",
       "       121. ,  79.2, 110. ,  96.8,  94.6,  99. ,  77. ,  83.6,  71.5,\n",
       "        75.9,  66. ,  77. , 104.5,  88. ,  59.4,  99. ,  94.6, 181.5,\n",
       "       192.5, 165. , 168.3, 165. , 228.8, 170.5, 176. , 209. , 106.7,\n",
       "       165. , 143. , 154. , 165. , 123.2,  83.6,  95.7,  75.9,  94.6,\n",
       "       101.2, 106.7,  88. ,  96.8, 192.5, 165. , 159.5, 150.7, 165. ,\n",
       "       217.8, 165. , 173.8, 165. , 236.5, 247.5, 192.5, 115.5, 110. ,\n",
       "       110. ,  96.8, 104.5,  50.6, 165. , 183.7, 187. , 198. , 110. ,\n",
       "        96.8,  79.2, 103.4,  99. ,  93.5, 117.7,  99. , 159.5, 253. ,\n",
       "        53.9,  82.5, 100.1, 123.2, 165. , 121. , 134.2, 198. , 104.5,\n",
       "         nan, 110. , 110. ,  73.7,  88. ,  71.5,  82.5, 110. , 121. ,\n",
       "       115.5, 154. , 165. , 165. , 154. , 165. ,  91.3,  73.7,  85.8,\n",
       "        57.2,  67.1,  82.5,  82.5,  82.5, 106.7, 102.3,  73.7, 104.5,\n",
       "       115.5,  79.2,  79.2, 187. , 159.5, 165. , 162.8, 121. , 115.5,\n",
       "       121. , 104.5, 121. , 121. , 141.9,  82.5,  91.3, 110. ,  85.8,\n",
       "       105.6,  78.1, 106.7, 106.7,  77. ,  99. , 104.5,  96.8, 107.8,\n",
       "       126.5,  58.3,  94.6,  89.1, 101.2,  86.9,  91.3, 154. , 165. ,\n",
       "       132. , 167.2, 110. , 115.5,  89.1,  99. ,  57.2,  66. ,  77. ,\n",
       "        58.3, 110. ,  85.8, 121. , 104.5,  78.1,  77. ,  82.5,  79.2,\n",
       "       112.2, 165. ,  96.8, 118.8, 132. , 198. , 159.5, 143. , 165. ,\n",
       "        74.8,  88. ,  63.8, 105.6,  77. , 159.5, 121. , 159.5, 143. ,\n",
       "       121. , 115.5, 110. , 107.8, 198. , 187. , 209. , 163.9,  85.8,\n",
       "        96.8,  82.5,  97.9,  69.3,  91.3,  73.7,  85.8, 106.7, 121. ,\n",
       "       121. ,  52.8,  72.6,  57.2,  77. ,  66. , 121. , 154. , 152.9,\n",
       "       115.5, 104.5,  93.5,  96.8, 110. ,  99. , 115.5,  93.5, 121. ,\n",
       "       132. , 159.5, 181.5, 152.9, 154. ,  74.8, 104.5, 106.7,  82.5,\n",
       "       104.5, 115.5,  93.5, 106.7, 113.3, 137.5, 126.5, 146.3,  78.1,\n",
       "        74.8, 126.5,  93.5,  96.8,  99. , 121. , 143. , 141.9, 151.8,\n",
       "       148.5, 170.5, 156.2, 137.5, 165. ,  78.1,  71.5,  88. ,  88. ,\n",
       "        84.7, 137.5,  78.1,  99. ,  77. ,  77. ,  71.5,  75.9,  99. ,\n",
       "       126.5, 126.5,  99. ,  83.6,  66. ,  77. ,  71.5,  99. ,  96.8,\n",
       "        99. ,  99. ,  85.8,  99. ,  82.5, 101.2,  82.5,  71.5, 115.5,\n",
       "        71.5,  52.8,  52.8,  73.7,  73.7,  73.7,   nan,  73.7,  68.2,\n",
       "       145.2, 110. ,  96.8,   nan,  79.2,  92.4,  92.4, 101.2, 121. ,\n",
       "        92.4,  63.8,  70.4,  66. ,  73.7,  71.5,  68.2,  74.8,  69.3,\n",
       "        71.5,  71.5,  81.4,   nan,  82.5,  82.5, 110. ,  81.4,  88. ,\n",
       "        83.6, 127.6, 132. , 121. , 115.5,  96.8,  93.5,  96.8,  96.8,\n",
       "        96.8,  93.5,  92.4,  99. , 101.2,   nan,  81.4,  74.8,  74.8,\n",
       "        69.3,  77. ,  96.8,  82.5,  77. ,  73.7,  73.7,  73.7, 121. ,\n",
       "        93.5, 101.2, 123.2, 105.6,  92.4,  99. ,  94.6,  57.2,  92.4,\n",
       "        86.9,  90.2])"
      ]
     },
     "execution_count": 23,
     "metadata": {},
     "output_type": "execute_result"
    }
   ],
   "source": [
    "df[\"horsepower\"].replace('?', np.nan)\n",
    "df[\"horsepower\"]= pd.to_numeric(df['horsepower'], errors='coerce') # Convert 'horsepower' column to numeric, forcing errors to NaN (invalid values will become NaN)\n",
    "horsepower_Mean= df[\"horsepower\"].mean()\n",
    "df[\"horsepower\"].replace('np.nan', horsepower_Mean) # replace missing values with mean value\n",
    "array_Horsepower= df[\"horsepower\"].to_numpy()\n",
    "array_new_Horsepower=array_Horsepower*1.10\n",
    "array_new_Horsepower\n"
   ]
  },
  {
   "cell_type": "markdown",
   "id": "b4dd35cc-956c-4979-ae6c-fef51916ee5e",
   "metadata": {},
   "source": [
    "## 6. Boolean Indexing\n",
    "Find the average displacement of cars with an origin of 2 (Europe) using NumPy\n",
    "indexing."
   ]
  },
  {
   "cell_type": "code",
   "execution_count": 25,
   "id": "313292fb-d033-49c1-98d4-816ed58ab74e",
   "metadata": {},
   "outputs": [
    {
     "data": {
      "text/html": [
       "<div>\n",
       "<style scoped>\n",
       "    .dataframe tbody tr th:only-of-type {\n",
       "        vertical-align: middle;\n",
       "    }\n",
       "\n",
       "    .dataframe tbody tr th {\n",
       "        vertical-align: top;\n",
       "    }\n",
       "\n",
       "    .dataframe thead th {\n",
       "        text-align: right;\n",
       "    }\n",
       "</style>\n",
       "<table border=\"1\" class=\"dataframe\">\n",
       "  <thead>\n",
       "    <tr style=\"text-align: right;\">\n",
       "      <th></th>\n",
       "      <th>mpg</th>\n",
       "      <th>cylinders</th>\n",
       "      <th>displacement</th>\n",
       "      <th>horsepower</th>\n",
       "      <th>weight</th>\n",
       "      <th>acceleration</th>\n",
       "      <th>model year</th>\n",
       "      <th>origin</th>\n",
       "      <th>car name</th>\n",
       "    </tr>\n",
       "  </thead>\n",
       "  <tbody>\n",
       "    <tr>\n",
       "      <th>19</th>\n",
       "      <td>26.0</td>\n",
       "      <td>4</td>\n",
       "      <td>97.0</td>\n",
       "      <td>46.0</td>\n",
       "      <td>1835</td>\n",
       "      <td>20.5</td>\n",
       "      <td>70</td>\n",
       "      <td>2</td>\n",
       "      <td>volkswagen 1131 deluxe sedan</td>\n",
       "    </tr>\n",
       "    <tr>\n",
       "      <th>20</th>\n",
       "      <td>25.0</td>\n",
       "      <td>4</td>\n",
       "      <td>110.0</td>\n",
       "      <td>87.0</td>\n",
       "      <td>2672</td>\n",
       "      <td>17.5</td>\n",
       "      <td>70</td>\n",
       "      <td>2</td>\n",
       "      <td>peugeot 504</td>\n",
       "    </tr>\n",
       "    <tr>\n",
       "      <th>21</th>\n",
       "      <td>24.0</td>\n",
       "      <td>4</td>\n",
       "      <td>107.0</td>\n",
       "      <td>90.0</td>\n",
       "      <td>2430</td>\n",
       "      <td>14.5</td>\n",
       "      <td>70</td>\n",
       "      <td>2</td>\n",
       "      <td>audi 100 ls</td>\n",
       "    </tr>\n",
       "  </tbody>\n",
       "</table>\n",
       "</div>"
      ],
      "text/plain": [
       "     mpg  cylinders  displacement  horsepower  weight  acceleration  \\\n",
       "19  26.0          4          97.0        46.0    1835          20.5   \n",
       "20  25.0          4         110.0        87.0    2672          17.5   \n",
       "21  24.0          4         107.0        90.0    2430          14.5   \n",
       "\n",
       "    model year  origin                      car name  \n",
       "19          70       2  volkswagen 1131 deluxe sedan  \n",
       "20          70       2                   peugeot 504  \n",
       "21          70       2                   audi 100 ls  "
      ]
     },
     "execution_count": 25,
     "metadata": {},
     "output_type": "execute_result"
    }
   ],
   "source": [
    "df_2 = df[df [\"origin\"] == 2]\n",
    "df_2.head(3)"
   ]
  },
  {
   "cell_type": "code",
   "execution_count": 26,
   "id": "7014cee6-a1e0-4de9-b07c-88f7485402c8",
   "metadata": {},
   "outputs": [
    {
     "data": {
      "text/plain": [
       "109.14285714285714"
      ]
     },
     "execution_count": 26,
     "metadata": {},
     "output_type": "execute_result"
    }
   ],
   "source": [
    "np.mean( df_2[\"displacement\"])"
   ]
  },
  {
   "cell_type": "markdown",
   "id": "0351b345-b349-4650-9273-aa8c04c88aa3",
   "metadata": {},
   "source": [
    "## 7. Matrix Operations\n",
    "Create a 2D NumPy array containing the columns mpg, horsepower, and weight.\n",
    "Compute the dot product of this matrix with a given vector [1, 0.5, -0.2]."
   ]
  },
  {
   "cell_type": "code",
   "execution_count": 51,
   "id": "26eb9393-1dcf-43e1-8870-5fe015f74e21",
   "metadata": {},
   "outputs": [],
   "source": [
    "x = np.array(df[['mpg', 'horsepower', 'weight']]) \n",
    "#or x = df[['mpg', 'horsepower', 'weight']].to_numpy() # extracting columns as numpy array\n",
    "y = np.array([1, 0.5, -0.2])"
   ]
  },
  {
   "cell_type": "code",
   "execution_count": 53,
   "id": "ad3051df-0a96-405b-8757-675f562becf2",
   "metadata": {},
   "outputs": [
    {
     "name": "stdout",
     "output_type": "stream",
     "text": [
      "[-617.8 -641.1 -594.2 -595.6 -602.8 -754.2 -746.8 -740.9 -758.5 -660.\n",
      " -612.6 -627.8 -662.2 -490.7 -402.9 -497.1 -488.3 -453.9 -355.  -318.\n",
      " -465.9 -417.  -402.5 -364.3 -463.6 -805.5 -765.2 -760.4 -840.9 -355.\n",
      " -379.8 -373.1    nan -457.8 -619.3 -598.8 -597.4 -589.6 -745.3 -791.3\n",
      " -740.3 -730.2 -889.  -851.2 -927.5 -519.4 -423.6 -587.4 -565.8 -378.\n",
      " -351.6 -349.8 -345.  -291.1 -253.1 -309.8 -330.  -384.1 -360.2 -400.8\n",
      " -416.6 -381.2 -759.3 -775.5 -737.  -735.3 -642.4 -811.6 -809.9 -799.2\n",
      " -776.4 -398.5 -688.4 -741.6 -775.8 -726.4 -512.6 -442.2 -531.3 -377.3\n",
      " -414.  -383.6 -429.7 -364.8 -349.  -719.5 -645.4 -712.1 -725.9 -665.4\n",
      " -879.4 -804.8 -780.6 -758.4 -826.5 -865.7 -663.7 -553.7 -589.6 -521.\n",
      " -542.2 -510.3 -341.  -913.4 -885.7 -832.8 -797.8 -489.8 -391.8 -423.2\n",
      " -406.8 -361.8 -400.5 -419.9 -382.  -728.9 -724.6 -319.9 -370.1 -450.9\n",
      " -498.6 -589.8 -453.  -480.4 -631.8 -552.9    nan -511.2 -602.2 -325.5\n",
      " -424.2 -302.7 -445.9 -690.2 -655.4 -652.1 -742.2 -851.8 -802.4 -843.6\n",
      " -762.4 -373.3 -333.1 -395.  -272.8 -338.1 -359.5 -360.1 -385.7 -425.3\n",
      " -405.7 -335.5 -586.3 -621.3 -635.4 -580.6 -832.6 -800.5 -808.6 -843.4\n",
      " -709.4 -710.9 -676.  -691.5 -531.8 -569.2 -556.3 -367.7 -463.3 -512.8\n",
      " -456.4 -468.4 -384.1 -436.5 -530.3 -323.4 -578.2 -468.3 -524.4 -518.\n",
      " -451.7 -299.5 -421.8 -378.5 -443.4 -385.5 -371.9 -755.5 -747.  -716.9\n",
      " -752.5 -574.6 -596.1 -537.9 -549.5 -352.  -378.3 -323.4 -299.5 -660.2\n",
      " -657.8 -655.5 -573.6 -300.  -331.  -365.5 -450.5 -559.  -700.  -591.\n",
      " -513.  -687.5 -769.5 -725.5 -696.  -663.  -343.5 -361.  -300.  -386.5\n",
      " -320.5 -686.  -740.  -740.  -779.  -631.5 -612.  -657.  -637.5 -738.\n",
      " -732.5 -754.5 -776.5 -320.  -479.5 -389.5 -481.  -348.2 -340.  -333.5\n",
      " -368.5 -492.5 -443.5 -467.5 -329.9 -290.9 -338.2 -339.6 -293.9 -598.1\n",
      " -657.6 -624.3 -635.3 -563.  -530.3 -474.9 -615.5 -577.6 -602.9 -550.7\n",
      " -650.4 -603.9 -593.3 -588.8 -553.4 -728.5 -367.  -437.  -384.3 -377.6\n",
      " -434.4 -473.3 -504.7 -408.6 -494.2 -548.5 -479.9 -599.3 -331.  -363.5\n",
      " -570.  -535.7 -511.7 -587.8 -596.4 -686.  -662.9 -705.5 -680.3 -777.6\n",
      " -724.3 -639.3 -694.5 -317.6 -328.4 -307.3 -466.6 -642.1 -694.5 -575.3\n",
      " -615.1 -370.8 -360.5 -339.7 -354.2 -460.6 -432.7 -455.7 -432.7 -349.3\n",
      " -325.5 -356.9 -334.1 -462.6 -503.6 -531.3 -612.1 -364.3 -467.4 -439.6\n",
      " -403.8 -383.3 -342.9 -479.6 -348.7 -348.7 -399.6 -520.1 -586.5 -291.9\n",
      "    nan -361.7 -308.2 -483.3 -410.3 -421.     nan -389.6 -428.8 -458.4\n",
      " -452.2 -466.5 -405.  -282.9 -304.  -286.9 -347.2 -325.5 -341.3 -328.9\n",
      " -376.8 -342.1 -413.6 -368.     nan -370.8 -400.1 -440.1 -458.4 -577.9\n",
      " -563.3 -496.6 -501.8 -605.6 -665.9 -547.8 -632.9 -449.  -457.  -401.\n",
      " -441.5 -434.  -475.  -503.     nan -323.  -334.  -329.  -355.5 -354.\n",
      " -352.  -367.5 -380.  -321.5 -327.5 -327.5 -509.  -522.5 -445.  -489.\n",
      " -453.  -396.  -518.  -488.  -356.  -385.  -457.5 -472. ]\n"
     ]
    }
   ],
   "source": [
    "dot_product = np.dot(x, y)\n",
    "print(dot_product)"
   ]
  },
  {
   "cell_type": "markdown",
   "id": "17440217-daee-4983-9de1-9c43072479b6",
   "metadata": {},
   "source": [
    "## 8. Sorting\n",
    "Use NumPy to sort the cars by model_year in descending order and display the ﬁrst\n",
    "ﬁve car names."
   ]
  },
  {
   "cell_type": "code",
   "execution_count": 55,
   "id": "b04d1edb-75c1-4c2d-95a5-db291f4ac93b",
   "metadata": {},
   "outputs": [
    {
     "data": {
      "text/html": [
       "<div>\n",
       "<style scoped>\n",
       "    .dataframe tbody tr th:only-of-type {\n",
       "        vertical-align: middle;\n",
       "    }\n",
       "\n",
       "    .dataframe tbody tr th {\n",
       "        vertical-align: top;\n",
       "    }\n",
       "\n",
       "    .dataframe thead th {\n",
       "        text-align: right;\n",
       "    }\n",
       "</style>\n",
       "<table border=\"1\" class=\"dataframe\">\n",
       "  <thead>\n",
       "    <tr style=\"text-align: right;\">\n",
       "      <th></th>\n",
       "      <th>mpg</th>\n",
       "      <th>cylinders</th>\n",
       "      <th>displacement</th>\n",
       "      <th>horsepower</th>\n",
       "      <th>weight</th>\n",
       "      <th>acceleration</th>\n",
       "      <th>model year</th>\n",
       "      <th>origin</th>\n",
       "      <th>car name</th>\n",
       "    </tr>\n",
       "  </thead>\n",
       "  <tbody>\n",
       "    <tr>\n",
       "      <th>397</th>\n",
       "      <td>31.0</td>\n",
       "      <td>4</td>\n",
       "      <td>119.0</td>\n",
       "      <td>82.0</td>\n",
       "      <td>2720</td>\n",
       "      <td>19.4</td>\n",
       "      <td>82</td>\n",
       "      <td>1</td>\n",
       "      <td>chevy s-10</td>\n",
       "    </tr>\n",
       "    <tr>\n",
       "      <th>382</th>\n",
       "      <td>34.0</td>\n",
       "      <td>4</td>\n",
       "      <td>108.0</td>\n",
       "      <td>70.0</td>\n",
       "      <td>2245</td>\n",
       "      <td>16.9</td>\n",
       "      <td>82</td>\n",
       "      <td>3</td>\n",
       "      <td>toyota corolla</td>\n",
       "    </tr>\n",
       "    <tr>\n",
       "      <th>367</th>\n",
       "      <td>28.0</td>\n",
       "      <td>4</td>\n",
       "      <td>112.0</td>\n",
       "      <td>88.0</td>\n",
       "      <td>2605</td>\n",
       "      <td>19.6</td>\n",
       "      <td>82</td>\n",
       "      <td>1</td>\n",
       "      <td>chevrolet cavalier</td>\n",
       "    </tr>\n",
       "    <tr>\n",
       "      <th>368</th>\n",
       "      <td>27.0</td>\n",
       "      <td>4</td>\n",
       "      <td>112.0</td>\n",
       "      <td>88.0</td>\n",
       "      <td>2640</td>\n",
       "      <td>18.6</td>\n",
       "      <td>82</td>\n",
       "      <td>1</td>\n",
       "      <td>chevrolet cavalier wagon</td>\n",
       "    </tr>\n",
       "    <tr>\n",
       "      <th>369</th>\n",
       "      <td>34.0</td>\n",
       "      <td>4</td>\n",
       "      <td>112.0</td>\n",
       "      <td>88.0</td>\n",
       "      <td>2395</td>\n",
       "      <td>18.0</td>\n",
       "      <td>82</td>\n",
       "      <td>1</td>\n",
       "      <td>chevrolet cavalier 2-door</td>\n",
       "    </tr>\n",
       "  </tbody>\n",
       "</table>\n",
       "</div>"
      ],
      "text/plain": [
       "      mpg  cylinders  displacement  horsepower  weight  acceleration  \\\n",
       "397  31.0          4         119.0        82.0    2720          19.4   \n",
       "382  34.0          4         108.0        70.0    2245          16.9   \n",
       "367  28.0          4         112.0        88.0    2605          19.6   \n",
       "368  27.0          4         112.0        88.0    2640          18.6   \n",
       "369  34.0          4         112.0        88.0    2395          18.0   \n",
       "\n",
       "     model year  origin                   car name  \n",
       "397          82       1                 chevy s-10  \n",
       "382          82       3             toyota corolla  \n",
       "367          82       1         chevrolet cavalier  \n",
       "368          82       1   chevrolet cavalier wagon  \n",
       "369          82       1  chevrolet cavalier 2-door  "
      ]
     },
     "execution_count": 55,
     "metadata": {},
     "output_type": "execute_result"
    }
   ],
   "source": [
    "df_3 = df.sort_values(by =\"model year\",ascending=False)\n",
    "df_3.head()"
   ]
  },
  {
   "cell_type": "markdown",
   "id": "e2f86daa-8739-456c-92a7-f3187328c0aa",
   "metadata": {},
   "source": [
    "## 9. Correlation\n",
    "Compute the Pearson correlation coefﬁcient between mpg and weight using\n",
    "NumPy."
   ]
  },
  {
   "cell_type": "code",
   "execution_count": 61,
   "id": "bf76c384-a657-4b96-ad17-c7825dc24d93",
   "metadata": {},
   "outputs": [
    {
     "name": "stdout",
     "output_type": "stream",
     "text": [
      "Pearson correlation coefficient between mpg and weight: -0.8317409332443351\n"
     ]
    }
   ],
   "source": [
    "mpg = np.array(df['mpg'])\n",
    "weight = np.array(df['weight'])\n",
    "correlation_matrix = np.corrcoef(mpg, weight)\n",
    "pearson_correlation = correlation_matrix[0, 1]\n",
    "print(\"Pearson correlation coefficient between mpg and weight:\", pearson_correlation)"
   ]
  },
  {
   "cell_type": "markdown",
   "id": "d264f146-2430-4618-a229-8dd9d63aa62f",
   "metadata": {},
   "source": [
    "## 10.Conditional Aggregates\n",
    "Calculate the mean mpg for cars grouped by the number of cylinders using NumPy\n",
    "techniques."
   ]
  },
  {
   "cell_type": "code",
   "execution_count": 67,
   "id": "1fe51932-3c73-453e-b963-7fc4efe689fc",
   "metadata": {},
   "outputs": [
    {
     "data": {
      "text/html": [
       "<div>\n",
       "<style scoped>\n",
       "    .dataframe tbody tr th:only-of-type {\n",
       "        vertical-align: middle;\n",
       "    }\n",
       "\n",
       "    .dataframe tbody tr th {\n",
       "        vertical-align: top;\n",
       "    }\n",
       "\n",
       "    .dataframe thead th {\n",
       "        text-align: right;\n",
       "    }\n",
       "</style>\n",
       "<table border=\"1\" class=\"dataframe\">\n",
       "  <thead>\n",
       "    <tr style=\"text-align: right;\">\n",
       "      <th></th>\n",
       "      <th>mpg</th>\n",
       "      <th>cylinders</th>\n",
       "      <th>displacement</th>\n",
       "      <th>horsepower</th>\n",
       "      <th>weight</th>\n",
       "      <th>acceleration</th>\n",
       "      <th>model year</th>\n",
       "      <th>origin</th>\n",
       "      <th>car name</th>\n",
       "    </tr>\n",
       "  </thead>\n",
       "  <tbody>\n",
       "    <tr>\n",
       "      <th>0</th>\n",
       "      <td>18.0</td>\n",
       "      <td>8</td>\n",
       "      <td>307.0</td>\n",
       "      <td>130.0</td>\n",
       "      <td>3504</td>\n",
       "      <td>12.0</td>\n",
       "      <td>70</td>\n",
       "      <td>1</td>\n",
       "      <td>chevrolet chevelle malibu</td>\n",
       "    </tr>\n",
       "    <tr>\n",
       "      <th>1</th>\n",
       "      <td>15.0</td>\n",
       "      <td>8</td>\n",
       "      <td>350.0</td>\n",
       "      <td>165.0</td>\n",
       "      <td>3693</td>\n",
       "      <td>11.5</td>\n",
       "      <td>70</td>\n",
       "      <td>1</td>\n",
       "      <td>buick skylark 320</td>\n",
       "    </tr>\n",
       "    <tr>\n",
       "      <th>14</th>\n",
       "      <td>24.0</td>\n",
       "      <td>4</td>\n",
       "      <td>113.0</td>\n",
       "      <td>95.0</td>\n",
       "      <td>2372</td>\n",
       "      <td>15.0</td>\n",
       "      <td>70</td>\n",
       "      <td>3</td>\n",
       "      <td>toyota corona mark ii</td>\n",
       "    </tr>\n",
       "    <tr>\n",
       "      <th>15</th>\n",
       "      <td>22.0</td>\n",
       "      <td>6</td>\n",
       "      <td>198.0</td>\n",
       "      <td>95.0</td>\n",
       "      <td>2833</td>\n",
       "      <td>15.5</td>\n",
       "      <td>70</td>\n",
       "      <td>1</td>\n",
       "      <td>plymouth duster</td>\n",
       "    </tr>\n",
       "    <tr>\n",
       "      <th>16</th>\n",
       "      <td>18.0</td>\n",
       "      <td>6</td>\n",
       "      <td>199.0</td>\n",
       "      <td>97.0</td>\n",
       "      <td>2774</td>\n",
       "      <td>15.5</td>\n",
       "      <td>70</td>\n",
       "      <td>1</td>\n",
       "      <td>amc hornet</td>\n",
       "    </tr>\n",
       "    <tr>\n",
       "      <th>18</th>\n",
       "      <td>27.0</td>\n",
       "      <td>4</td>\n",
       "      <td>97.0</td>\n",
       "      <td>88.0</td>\n",
       "      <td>2130</td>\n",
       "      <td>14.5</td>\n",
       "      <td>70</td>\n",
       "      <td>3</td>\n",
       "      <td>datsun pl510</td>\n",
       "    </tr>\n",
       "    <tr>\n",
       "      <th>71</th>\n",
       "      <td>19.0</td>\n",
       "      <td>3</td>\n",
       "      <td>70.0</td>\n",
       "      <td>97.0</td>\n",
       "      <td>2330</td>\n",
       "      <td>13.5</td>\n",
       "      <td>72</td>\n",
       "      <td>3</td>\n",
       "      <td>mazda rx2 coupe</td>\n",
       "    </tr>\n",
       "    <tr>\n",
       "      <th>111</th>\n",
       "      <td>18.0</td>\n",
       "      <td>3</td>\n",
       "      <td>70.0</td>\n",
       "      <td>90.0</td>\n",
       "      <td>2124</td>\n",
       "      <td>13.5</td>\n",
       "      <td>73</td>\n",
       "      <td>3</td>\n",
       "      <td>maxda rx3</td>\n",
       "    </tr>\n",
       "    <tr>\n",
       "      <th>274</th>\n",
       "      <td>20.3</td>\n",
       "      <td>5</td>\n",
       "      <td>131.0</td>\n",
       "      <td>103.0</td>\n",
       "      <td>2830</td>\n",
       "      <td>15.9</td>\n",
       "      <td>78</td>\n",
       "      <td>2</td>\n",
       "      <td>audi 5000</td>\n",
       "    </tr>\n",
       "    <tr>\n",
       "      <th>297</th>\n",
       "      <td>25.4</td>\n",
       "      <td>5</td>\n",
       "      <td>183.0</td>\n",
       "      <td>77.0</td>\n",
       "      <td>3530</td>\n",
       "      <td>20.1</td>\n",
       "      <td>79</td>\n",
       "      <td>2</td>\n",
       "      <td>mercedes benz 300d</td>\n",
       "    </tr>\n",
       "  </tbody>\n",
       "</table>\n",
       "</div>"
      ],
      "text/plain": [
       "      mpg  cylinders  displacement  horsepower  weight  acceleration  \\\n",
       "0    18.0          8         307.0       130.0    3504          12.0   \n",
       "1    15.0          8         350.0       165.0    3693          11.5   \n",
       "14   24.0          4         113.0        95.0    2372          15.0   \n",
       "15   22.0          6         198.0        95.0    2833          15.5   \n",
       "16   18.0          6         199.0        97.0    2774          15.5   \n",
       "18   27.0          4          97.0        88.0    2130          14.5   \n",
       "71   19.0          3          70.0        97.0    2330          13.5   \n",
       "111  18.0          3          70.0        90.0    2124          13.5   \n",
       "274  20.3          5         131.0       103.0    2830          15.9   \n",
       "297  25.4          5         183.0        77.0    3530          20.1   \n",
       "\n",
       "     model year  origin                   car name  \n",
       "0            70       1  chevrolet chevelle malibu  \n",
       "1            70       1          buick skylark 320  \n",
       "14           70       3      toyota corona mark ii  \n",
       "15           70       1            plymouth duster  \n",
       "16           70       1                 amc hornet  \n",
       "18           70       3               datsun pl510  \n",
       "71           72       3            mazda rx2 coupe  \n",
       "111          73       3                  maxda rx3  \n",
       "274          78       2                  audi 5000  \n",
       "297          79       2         mercedes benz 300d  "
      ]
     },
     "execution_count": 67,
     "metadata": {},
     "output_type": "execute_result"
    }
   ],
   "source": [
    "df_4 = df.groupby([\"cylinders\"])\n",
    "df_4.head(2)"
   ]
  },
  {
   "cell_type": "code",
   "execution_count": 65,
   "id": "81b4b736-305b-438c-aacb-6ce9ac441ea8",
   "metadata": {},
   "outputs": [
    {
     "name": "stdout",
     "output_type": "stream",
     "text": [
      "cylinders\n",
      "3    20.550000\n",
      "4    29.286765\n",
      "5    27.366667\n",
      "6    19.985714\n",
      "8    14.963107\n",
      "Name: mpg, dtype: float64\n"
     ]
    }
   ],
   "source": [
    "print(df_4[\"mpg\"].mean())"
   ]
  },
  {
   "cell_type": "markdown",
   "id": "0f116112-949f-4b17-888f-f0114f334207",
   "metadata": {},
   "source": [
    "# Pandas Problems"
   ]
  },
  {
   "cell_type": "markdown",
   "id": "b58cf7f6-7dda-4444-93ba-fbb2b8250457",
   "metadata": {},
   "source": [
    "## 1. Basic Exploration\n",
    "Load the dataset into a Pandas DataFrame. Display:\n",
    "- The ﬁrst 10 rows\n",
    "- The total number of rows and columns\n",
    "- Summary statistics for numerical columns"
   ]
  },
  {
   "cell_type": "code",
   "execution_count": 120,
   "id": "ed5fe445-5ad5-4683-93e9-16ed2a0aaf95",
   "metadata": {},
   "outputs": [
    {
     "data": {
      "text/html": [
       "<div>\n",
       "<style scoped>\n",
       "    .dataframe tbody tr th:only-of-type {\n",
       "        vertical-align: middle;\n",
       "    }\n",
       "\n",
       "    .dataframe tbody tr th {\n",
       "        vertical-align: top;\n",
       "    }\n",
       "\n",
       "    .dataframe thead th {\n",
       "        text-align: right;\n",
       "    }\n",
       "</style>\n",
       "<table border=\"1\" class=\"dataframe\">\n",
       "  <thead>\n",
       "    <tr style=\"text-align: right;\">\n",
       "      <th></th>\n",
       "      <th>mpg</th>\n",
       "      <th>cylinders</th>\n",
       "      <th>displacement</th>\n",
       "      <th>horsepower</th>\n",
       "      <th>weight</th>\n",
       "      <th>acceleration</th>\n",
       "      <th>model year</th>\n",
       "      <th>origin</th>\n",
       "      <th>car name</th>\n",
       "    </tr>\n",
       "  </thead>\n",
       "  <tbody>\n",
       "    <tr>\n",
       "      <th>0</th>\n",
       "      <td>18.0</td>\n",
       "      <td>8</td>\n",
       "      <td>307.0</td>\n",
       "      <td>130</td>\n",
       "      <td>3504</td>\n",
       "      <td>12.0</td>\n",
       "      <td>70</td>\n",
       "      <td>1</td>\n",
       "      <td>chevrolet chevelle malibu</td>\n",
       "    </tr>\n",
       "    <tr>\n",
       "      <th>1</th>\n",
       "      <td>15.0</td>\n",
       "      <td>8</td>\n",
       "      <td>350.0</td>\n",
       "      <td>165</td>\n",
       "      <td>3693</td>\n",
       "      <td>11.5</td>\n",
       "      <td>70</td>\n",
       "      <td>1</td>\n",
       "      <td>buick skylark 320</td>\n",
       "    </tr>\n",
       "    <tr>\n",
       "      <th>2</th>\n",
       "      <td>18.0</td>\n",
       "      <td>8</td>\n",
       "      <td>318.0</td>\n",
       "      <td>150</td>\n",
       "      <td>3436</td>\n",
       "      <td>11.0</td>\n",
       "      <td>70</td>\n",
       "      <td>1</td>\n",
       "      <td>plymouth satellite</td>\n",
       "    </tr>\n",
       "    <tr>\n",
       "      <th>3</th>\n",
       "      <td>16.0</td>\n",
       "      <td>8</td>\n",
       "      <td>304.0</td>\n",
       "      <td>150</td>\n",
       "      <td>3433</td>\n",
       "      <td>12.0</td>\n",
       "      <td>70</td>\n",
       "      <td>1</td>\n",
       "      <td>amc rebel sst</td>\n",
       "    </tr>\n",
       "    <tr>\n",
       "      <th>4</th>\n",
       "      <td>17.0</td>\n",
       "      <td>8</td>\n",
       "      <td>302.0</td>\n",
       "      <td>140</td>\n",
       "      <td>3449</td>\n",
       "      <td>10.5</td>\n",
       "      <td>70</td>\n",
       "      <td>1</td>\n",
       "      <td>ford torino</td>\n",
       "    </tr>\n",
       "    <tr>\n",
       "      <th>5</th>\n",
       "      <td>15.0</td>\n",
       "      <td>8</td>\n",
       "      <td>429.0</td>\n",
       "      <td>198</td>\n",
       "      <td>4341</td>\n",
       "      <td>10.0</td>\n",
       "      <td>70</td>\n",
       "      <td>1</td>\n",
       "      <td>ford galaxie 500</td>\n",
       "    </tr>\n",
       "    <tr>\n",
       "      <th>6</th>\n",
       "      <td>14.0</td>\n",
       "      <td>8</td>\n",
       "      <td>454.0</td>\n",
       "      <td>220</td>\n",
       "      <td>4354</td>\n",
       "      <td>9.0</td>\n",
       "      <td>70</td>\n",
       "      <td>1</td>\n",
       "      <td>chevrolet impala</td>\n",
       "    </tr>\n",
       "    <tr>\n",
       "      <th>7</th>\n",
       "      <td>14.0</td>\n",
       "      <td>8</td>\n",
       "      <td>440.0</td>\n",
       "      <td>215</td>\n",
       "      <td>4312</td>\n",
       "      <td>8.5</td>\n",
       "      <td>70</td>\n",
       "      <td>1</td>\n",
       "      <td>plymouth fury iii</td>\n",
       "    </tr>\n",
       "    <tr>\n",
       "      <th>8</th>\n",
       "      <td>14.0</td>\n",
       "      <td>8</td>\n",
       "      <td>455.0</td>\n",
       "      <td>225</td>\n",
       "      <td>4425</td>\n",
       "      <td>10.0</td>\n",
       "      <td>70</td>\n",
       "      <td>1</td>\n",
       "      <td>pontiac catalina</td>\n",
       "    </tr>\n",
       "    <tr>\n",
       "      <th>9</th>\n",
       "      <td>15.0</td>\n",
       "      <td>8</td>\n",
       "      <td>390.0</td>\n",
       "      <td>190</td>\n",
       "      <td>3850</td>\n",
       "      <td>8.5</td>\n",
       "      <td>70</td>\n",
       "      <td>1</td>\n",
       "      <td>amc ambassador dpl</td>\n",
       "    </tr>\n",
       "  </tbody>\n",
       "</table>\n",
       "</div>"
      ],
      "text/plain": [
       "    mpg  cylinders  displacement horsepower  weight  acceleration  model year  \\\n",
       "0  18.0          8         307.0        130    3504          12.0          70   \n",
       "1  15.0          8         350.0        165    3693          11.5          70   \n",
       "2  18.0          8         318.0        150    3436          11.0          70   \n",
       "3  16.0          8         304.0        150    3433          12.0          70   \n",
       "4  17.0          8         302.0        140    3449          10.5          70   \n",
       "5  15.0          8         429.0        198    4341          10.0          70   \n",
       "6  14.0          8         454.0        220    4354           9.0          70   \n",
       "7  14.0          8         440.0        215    4312           8.5          70   \n",
       "8  14.0          8         455.0        225    4425          10.0          70   \n",
       "9  15.0          8         390.0        190    3850           8.5          70   \n",
       "\n",
       "   origin                   car name  \n",
       "0       1  chevrolet chevelle malibu  \n",
       "1       1          buick skylark 320  \n",
       "2       1         plymouth satellite  \n",
       "3       1              amc rebel sst  \n",
       "4       1                ford torino  \n",
       "5       1           ford galaxie 500  \n",
       "6       1           chevrolet impala  \n",
       "7       1          plymouth fury iii  \n",
       "8       1           pontiac catalina  \n",
       "9       1         amc ambassador dpl  "
      ]
     },
     "execution_count": 120,
     "metadata": {},
     "output_type": "execute_result"
    }
   ],
   "source": [
    "df = pd.read_csv (\"C:\\\\Users\\\\sachi\\\\Downloads\\\\auto-mpg.csv\")\n",
    "df.head(10) "
   ]
  },
  {
   "cell_type": "code",
   "execution_count": 122,
   "id": "696009c1-d6a8-438c-bad3-217055a2205f",
   "metadata": {},
   "outputs": [
    {
     "data": {
      "text/plain": [
       "(398, 9)"
      ]
     },
     "execution_count": 122,
     "metadata": {},
     "output_type": "execute_result"
    }
   ],
   "source": [
    "df.shape"
   ]
  },
  {
   "cell_type": "code",
   "execution_count": 124,
   "id": "555e232a-1a9a-450f-a0eb-6e86992bbf12",
   "metadata": {},
   "outputs": [
    {
     "data": {
      "text/html": [
       "<div>\n",
       "<style scoped>\n",
       "    .dataframe tbody tr th:only-of-type {\n",
       "        vertical-align: middle;\n",
       "    }\n",
       "\n",
       "    .dataframe tbody tr th {\n",
       "        vertical-align: top;\n",
       "    }\n",
       "\n",
       "    .dataframe thead th {\n",
       "        text-align: right;\n",
       "    }\n",
       "</style>\n",
       "<table border=\"1\" class=\"dataframe\">\n",
       "  <thead>\n",
       "    <tr style=\"text-align: right;\">\n",
       "      <th></th>\n",
       "      <th>mpg</th>\n",
       "      <th>cylinders</th>\n",
       "      <th>displacement</th>\n",
       "      <th>weight</th>\n",
       "      <th>acceleration</th>\n",
       "      <th>model year</th>\n",
       "      <th>origin</th>\n",
       "    </tr>\n",
       "  </thead>\n",
       "  <tbody>\n",
       "    <tr>\n",
       "      <th>count</th>\n",
       "      <td>398.000000</td>\n",
       "      <td>398.000000</td>\n",
       "      <td>398.000000</td>\n",
       "      <td>398.000000</td>\n",
       "      <td>398.000000</td>\n",
       "      <td>398.000000</td>\n",
       "      <td>398.000000</td>\n",
       "    </tr>\n",
       "    <tr>\n",
       "      <th>mean</th>\n",
       "      <td>23.514573</td>\n",
       "      <td>5.454774</td>\n",
       "      <td>193.425879</td>\n",
       "      <td>2970.424623</td>\n",
       "      <td>15.568090</td>\n",
       "      <td>76.010050</td>\n",
       "      <td>1.572864</td>\n",
       "    </tr>\n",
       "    <tr>\n",
       "      <th>std</th>\n",
       "      <td>7.815984</td>\n",
       "      <td>1.701004</td>\n",
       "      <td>104.269838</td>\n",
       "      <td>846.841774</td>\n",
       "      <td>2.757689</td>\n",
       "      <td>3.697627</td>\n",
       "      <td>0.802055</td>\n",
       "    </tr>\n",
       "    <tr>\n",
       "      <th>min</th>\n",
       "      <td>9.000000</td>\n",
       "      <td>3.000000</td>\n",
       "      <td>68.000000</td>\n",
       "      <td>1613.000000</td>\n",
       "      <td>8.000000</td>\n",
       "      <td>70.000000</td>\n",
       "      <td>1.000000</td>\n",
       "    </tr>\n",
       "    <tr>\n",
       "      <th>25%</th>\n",
       "      <td>17.500000</td>\n",
       "      <td>4.000000</td>\n",
       "      <td>104.250000</td>\n",
       "      <td>2223.750000</td>\n",
       "      <td>13.825000</td>\n",
       "      <td>73.000000</td>\n",
       "      <td>1.000000</td>\n",
       "    </tr>\n",
       "    <tr>\n",
       "      <th>50%</th>\n",
       "      <td>23.000000</td>\n",
       "      <td>4.000000</td>\n",
       "      <td>148.500000</td>\n",
       "      <td>2803.500000</td>\n",
       "      <td>15.500000</td>\n",
       "      <td>76.000000</td>\n",
       "      <td>1.000000</td>\n",
       "    </tr>\n",
       "    <tr>\n",
       "      <th>75%</th>\n",
       "      <td>29.000000</td>\n",
       "      <td>8.000000</td>\n",
       "      <td>262.000000</td>\n",
       "      <td>3608.000000</td>\n",
       "      <td>17.175000</td>\n",
       "      <td>79.000000</td>\n",
       "      <td>2.000000</td>\n",
       "    </tr>\n",
       "    <tr>\n",
       "      <th>max</th>\n",
       "      <td>46.600000</td>\n",
       "      <td>8.000000</td>\n",
       "      <td>455.000000</td>\n",
       "      <td>5140.000000</td>\n",
       "      <td>24.800000</td>\n",
       "      <td>82.000000</td>\n",
       "      <td>3.000000</td>\n",
       "    </tr>\n",
       "  </tbody>\n",
       "</table>\n",
       "</div>"
      ],
      "text/plain": [
       "              mpg   cylinders  displacement       weight  acceleration  \\\n",
       "count  398.000000  398.000000    398.000000   398.000000    398.000000   \n",
       "mean    23.514573    5.454774    193.425879  2970.424623     15.568090   \n",
       "std      7.815984    1.701004    104.269838   846.841774      2.757689   \n",
       "min      9.000000    3.000000     68.000000  1613.000000      8.000000   \n",
       "25%     17.500000    4.000000    104.250000  2223.750000     13.825000   \n",
       "50%     23.000000    4.000000    148.500000  2803.500000     15.500000   \n",
       "75%     29.000000    8.000000    262.000000  3608.000000     17.175000   \n",
       "max     46.600000    8.000000    455.000000  5140.000000     24.800000   \n",
       "\n",
       "       model year      origin  \n",
       "count  398.000000  398.000000  \n",
       "mean    76.010050    1.572864  \n",
       "std      3.697627    0.802055  \n",
       "min     70.000000    1.000000  \n",
       "25%     73.000000    1.000000  \n",
       "50%     76.000000    1.000000  \n",
       "75%     79.000000    2.000000  \n",
       "max     82.000000    3.000000  "
      ]
     },
     "execution_count": 124,
     "metadata": {},
     "output_type": "execute_result"
    }
   ],
   "source": [
    "df.describe()"
   ]
  },
  {
   "cell_type": "markdown",
   "id": "5ad343b4-99e3-4b06-90b8-6e08a1f873f8",
   "metadata": {},
   "source": [
    "## 2. Filtering and Indexing\n",
    "- Find all cars manufactured in 1975 with a weight less than 3000. Return the DataFrame with selected columns: car_name, weight, and mpg."
   ]
  },
  {
   "cell_type": "code",
   "execution_count": 127,
   "id": "35e35faa-57c6-4417-b96a-5d865f43ed73",
   "metadata": {},
   "outputs": [
    {
     "data": {
      "text/html": [
       "<div>\n",
       "<style scoped>\n",
       "    .dataframe tbody tr th:only-of-type {\n",
       "        vertical-align: middle;\n",
       "    }\n",
       "\n",
       "    .dataframe tbody tr th {\n",
       "        vertical-align: top;\n",
       "    }\n",
       "\n",
       "    .dataframe thead th {\n",
       "        text-align: right;\n",
       "    }\n",
       "</style>\n",
       "<table border=\"1\" class=\"dataframe\">\n",
       "  <thead>\n",
       "    <tr style=\"text-align: right;\">\n",
       "      <th></th>\n",
       "      <th>car name</th>\n",
       "      <th>weight</th>\n",
       "      <th>mpg</th>\n",
       "    </tr>\n",
       "  </thead>\n",
       "  <tbody>\n",
       "    <tr>\n",
       "      <th>167</th>\n",
       "      <td>toyota corolla</td>\n",
       "      <td>2171</td>\n",
       "      <td>29.0</td>\n",
       "    </tr>\n",
       "    <tr>\n",
       "      <th>168</th>\n",
       "      <td>ford pinto</td>\n",
       "      <td>2639</td>\n",
       "      <td>23.0</td>\n",
       "    </tr>\n",
       "    <tr>\n",
       "      <th>169</th>\n",
       "      <td>amc gremlin</td>\n",
       "      <td>2914</td>\n",
       "      <td>20.0</td>\n",
       "    </tr>\n",
       "    <tr>\n",
       "      <th>170</th>\n",
       "      <td>pontiac astro</td>\n",
       "      <td>2592</td>\n",
       "      <td>23.0</td>\n",
       "    </tr>\n",
       "    <tr>\n",
       "      <th>171</th>\n",
       "      <td>toyota corona</td>\n",
       "      <td>2702</td>\n",
       "      <td>24.0</td>\n",
       "    </tr>\n",
       "    <tr>\n",
       "      <th>172</th>\n",
       "      <td>volkswagen dasher</td>\n",
       "      <td>2223</td>\n",
       "      <td>25.0</td>\n",
       "    </tr>\n",
       "    <tr>\n",
       "      <th>173</th>\n",
       "      <td>datsun 710</td>\n",
       "      <td>2545</td>\n",
       "      <td>24.0</td>\n",
       "    </tr>\n",
       "    <tr>\n",
       "      <th>174</th>\n",
       "      <td>ford pinto</td>\n",
       "      <td>2984</td>\n",
       "      <td>18.0</td>\n",
       "    </tr>\n",
       "    <tr>\n",
       "      <th>175</th>\n",
       "      <td>volkswagen rabbit</td>\n",
       "      <td>1937</td>\n",
       "      <td>29.0</td>\n",
       "    </tr>\n",
       "    <tr>\n",
       "      <th>177</th>\n",
       "      <td>audi 100ls</td>\n",
       "      <td>2694</td>\n",
       "      <td>23.0</td>\n",
       "    </tr>\n",
       "    <tr>\n",
       "      <th>178</th>\n",
       "      <td>peugeot 504</td>\n",
       "      <td>2957</td>\n",
       "      <td>23.0</td>\n",
       "    </tr>\n",
       "    <tr>\n",
       "      <th>179</th>\n",
       "      <td>volvo 244dl</td>\n",
       "      <td>2945</td>\n",
       "      <td>22.0</td>\n",
       "    </tr>\n",
       "    <tr>\n",
       "      <th>180</th>\n",
       "      <td>saab 99le</td>\n",
       "      <td>2671</td>\n",
       "      <td>25.0</td>\n",
       "    </tr>\n",
       "    <tr>\n",
       "      <th>181</th>\n",
       "      <td>honda civic cvcc</td>\n",
       "      <td>1795</td>\n",
       "      <td>33.0</td>\n",
       "    </tr>\n",
       "  </tbody>\n",
       "</table>\n",
       "</div>"
      ],
      "text/plain": [
       "              car name  weight   mpg\n",
       "167     toyota corolla    2171  29.0\n",
       "168         ford pinto    2639  23.0\n",
       "169        amc gremlin    2914  20.0\n",
       "170      pontiac astro    2592  23.0\n",
       "171      toyota corona    2702  24.0\n",
       "172  volkswagen dasher    2223  25.0\n",
       "173         datsun 710    2545  24.0\n",
       "174         ford pinto    2984  18.0\n",
       "175  volkswagen rabbit    1937  29.0\n",
       "177         audi 100ls    2694  23.0\n",
       "178        peugeot 504    2957  23.0\n",
       "179        volvo 244dl    2945  22.0\n",
       "180          saab 99le    2671  25.0\n",
       "181   honda civic cvcc    1795  33.0"
      ]
     },
     "execution_count": 127,
     "metadata": {},
     "output_type": "execute_result"
    }
   ],
   "source": [
    "filtered_data = df[(df[\"model year\"] == 75) & (df['weight']<3000)]\n",
    "filtered_data[[\"car name\", \"weight\", \"mpg\"]]"
   ]
  },
  {
   "cell_type": "markdown",
   "id": "2700927f-7d08-46d0-8a6c-22934bd630d3",
   "metadata": {},
   "source": [
    "## 3. Handling Missing Data\n",
    "- Identify if there are any missing values in the dataset. Replace missing values in the horsepower column with the column's median."
   ]
  },
  {
   "cell_type": "code",
   "execution_count": 130,
   "id": "42a29178-631f-43e1-940e-63fd06fe8b58",
   "metadata": {},
   "outputs": [
    {
     "data": {
      "text/plain": [
       "mpg             0\n",
       "cylinders       0\n",
       "displacement    0\n",
       "horsepower      0\n",
       "weight          0\n",
       "acceleration    0\n",
       "model year      0\n",
       "origin          0\n",
       "car name        0\n",
       "dtype: int64"
      ]
     },
     "execution_count": 130,
     "metadata": {},
     "output_type": "execute_result"
    }
   ],
   "source": [
    "#Identifying Missing values in the dataset\n",
    "df.isna().sum()"
   ]
  },
  {
   "cell_type": "code",
   "execution_count": 132,
   "id": "45e79b84-2dde-43fc-b09f-6bfd11b7b499",
   "metadata": {},
   "outputs": [],
   "source": [
    "# There is \"?\" in the horse power column which is also treat as missing values"
   ]
  },
  {
   "cell_type": "code",
   "execution_count": 134,
   "id": "e62e0e34-917d-4ebf-b20a-671d39d53b86",
   "metadata": {},
   "outputs": [
    {
     "data": {
      "text/plain": [
       "mpg                   25.0\n",
       "cylinders                4\n",
       "displacement          98.0\n",
       "horsepower               ?\n",
       "weight                2046\n",
       "acceleration          19.0\n",
       "model year              71\n",
       "origin                   1\n",
       "car name        ford pinto\n",
       "Name: 32, dtype: object"
      ]
     },
     "execution_count": 134,
     "metadata": {},
     "output_type": "execute_result"
    }
   ],
   "source": [
    "df.loc[32]"
   ]
  },
  {
   "cell_type": "code",
   "execution_count": 143,
   "id": "b4cf34eb-5ea4-4ede-9424-4e9d3d71ef14",
   "metadata": {},
   "outputs": [
    {
     "name": "stdout",
     "output_type": "stream",
     "text": [
      "mpg                            25.0\n",
      "cylinders                         4\n",
      "displacement                   98.0\n",
      "horsepower                     93.5\n",
      "weight                         2046\n",
      "acceleration                   19.0\n",
      "model year                       71\n",
      "origin                            1\n",
      "car name                 ford pinto\n",
      "power_to_weight_ratio      0.045699\n",
      "Name: 32, dtype: object\n"
     ]
    }
   ],
   "source": [
    "#Replace missing values in the horsepower column with the column's median.\n",
    "df[\"horsepower\"]= pd.to_numeric(df['horsepower'], errors='coerce')\n",
    "df[\"horsepower\"] = df[\"horsepower\"].replace(np.nan, df[\"horsepower\"].median())\n",
    "print(df.loc[32])"
   ]
  },
  {
   "cell_type": "markdown",
   "id": "b4abd85f-f56b-4df2-9a51-6635542e747b",
   "metadata": {},
   "source": [
    "## 4. Data Transformation\n",
    "- Add a new column power_to_weight_ratio, calculated as horsepower / weight."
   ]
  },
  {
   "cell_type": "code",
   "execution_count": 140,
   "id": "8895e584-e8b6-4f74-a2c2-31b24ad7587d",
   "metadata": {},
   "outputs": [
    {
     "data": {
      "text/html": [
       "<div>\n",
       "<style scoped>\n",
       "    .dataframe tbody tr th:only-of-type {\n",
       "        vertical-align: middle;\n",
       "    }\n",
       "\n",
       "    .dataframe tbody tr th {\n",
       "        vertical-align: top;\n",
       "    }\n",
       "\n",
       "    .dataframe thead th {\n",
       "        text-align: right;\n",
       "    }\n",
       "</style>\n",
       "<table border=\"1\" class=\"dataframe\">\n",
       "  <thead>\n",
       "    <tr style=\"text-align: right;\">\n",
       "      <th></th>\n",
       "      <th>mpg</th>\n",
       "      <th>cylinders</th>\n",
       "      <th>displacement</th>\n",
       "      <th>horsepower</th>\n",
       "      <th>weight</th>\n",
       "      <th>acceleration</th>\n",
       "      <th>model year</th>\n",
       "      <th>origin</th>\n",
       "      <th>car name</th>\n",
       "      <th>power_to_weight_ratio</th>\n",
       "    </tr>\n",
       "  </thead>\n",
       "  <tbody>\n",
       "    <tr>\n",
       "      <th>0</th>\n",
       "      <td>18.0</td>\n",
       "      <td>8</td>\n",
       "      <td>307.0</td>\n",
       "      <td>130.0</td>\n",
       "      <td>3504</td>\n",
       "      <td>12.0</td>\n",
       "      <td>70</td>\n",
       "      <td>1</td>\n",
       "      <td>chevrolet chevelle malibu</td>\n",
       "      <td>0.037100</td>\n",
       "    </tr>\n",
       "    <tr>\n",
       "      <th>1</th>\n",
       "      <td>15.0</td>\n",
       "      <td>8</td>\n",
       "      <td>350.0</td>\n",
       "      <td>165.0</td>\n",
       "      <td>3693</td>\n",
       "      <td>11.5</td>\n",
       "      <td>70</td>\n",
       "      <td>1</td>\n",
       "      <td>buick skylark 320</td>\n",
       "      <td>0.044679</td>\n",
       "    </tr>\n",
       "    <tr>\n",
       "      <th>2</th>\n",
       "      <td>18.0</td>\n",
       "      <td>8</td>\n",
       "      <td>318.0</td>\n",
       "      <td>150.0</td>\n",
       "      <td>3436</td>\n",
       "      <td>11.0</td>\n",
       "      <td>70</td>\n",
       "      <td>1</td>\n",
       "      <td>plymouth satellite</td>\n",
       "      <td>0.043655</td>\n",
       "    </tr>\n",
       "  </tbody>\n",
       "</table>\n",
       "</div>"
      ],
      "text/plain": [
       "    mpg  cylinders  displacement  horsepower  weight  acceleration  \\\n",
       "0  18.0          8         307.0       130.0    3504          12.0   \n",
       "1  15.0          8         350.0       165.0    3693          11.5   \n",
       "2  18.0          8         318.0       150.0    3436          11.0   \n",
       "\n",
       "   model year  origin                   car name  power_to_weight_ratio  \n",
       "0          70       1  chevrolet chevelle malibu               0.037100  \n",
       "1          70       1          buick skylark 320               0.044679  \n",
       "2          70       1         plymouth satellite               0.043655  "
      ]
     },
     "execution_count": 140,
     "metadata": {},
     "output_type": "execute_result"
    }
   ],
   "source": [
    "df['power_to_weight_ratio'] = df['horsepower'] / df['weight']\n",
    "df.head(3)"
   ]
  },
  {
   "cell_type": "markdown",
   "id": "7fdcc100-b54a-40e5-ab04-28b9ab0ae034",
   "metadata": {},
   "source": [
    "## 5. Group By\n",
    "Group the cars by origin and calculate the mean mpg for each group."
   ]
  },
  {
   "cell_type": "code",
   "execution_count": 160,
   "id": "aea3fa00-3cee-41af-b04f-c76b418a623d",
   "metadata": {},
   "outputs": [
    {
     "data": {
      "text/plain": [
       "origin\n",
       "1    20.083534\n",
       "2    27.891429\n",
       "3    30.450633\n",
       "Name: mpg, dtype: float64"
      ]
     },
     "execution_count": 160,
     "metadata": {},
     "output_type": "execute_result"
    }
   ],
   "source": [
    "df_5 = df.groupby(\"origin\")\n",
    "df_5[\"mpg\"].mean()"
   ]
  },
  {
   "cell_type": "markdown",
   "id": "c45b2b33-8565-44b9-ad92-88c8b1755722",
   "metadata": {},
   "source": [
    "## 6. Sorting\n",
    "- Sort the DataFrame by mpg in descending order and display the top 10 cars with the highest mpg."
   ]
  },
  {
   "cell_type": "code",
   "execution_count": 167,
   "id": "49f07ab2-7b4c-4bf4-b86f-0533a4774a0e",
   "metadata": {},
   "outputs": [
    {
     "data": {
      "text/html": [
       "<div>\n",
       "<style scoped>\n",
       "    .dataframe tbody tr th:only-of-type {\n",
       "        vertical-align: middle;\n",
       "    }\n",
       "\n",
       "    .dataframe tbody tr th {\n",
       "        vertical-align: top;\n",
       "    }\n",
       "\n",
       "    .dataframe thead th {\n",
       "        text-align: right;\n",
       "    }\n",
       "</style>\n",
       "<table border=\"1\" class=\"dataframe\">\n",
       "  <thead>\n",
       "    <tr style=\"text-align: right;\">\n",
       "      <th></th>\n",
       "      <th>mpg</th>\n",
       "      <th>car name</th>\n",
       "    </tr>\n",
       "  </thead>\n",
       "  <tbody>\n",
       "    <tr>\n",
       "      <th>322</th>\n",
       "      <td>46.6</td>\n",
       "      <td>mazda glc</td>\n",
       "    </tr>\n",
       "    <tr>\n",
       "      <th>329</th>\n",
       "      <td>44.6</td>\n",
       "      <td>honda civic 1500 gl</td>\n",
       "    </tr>\n",
       "    <tr>\n",
       "      <th>325</th>\n",
       "      <td>44.3</td>\n",
       "      <td>vw rabbit c (diesel)</td>\n",
       "    </tr>\n",
       "    <tr>\n",
       "      <th>394</th>\n",
       "      <td>44.0</td>\n",
       "      <td>vw pickup</td>\n",
       "    </tr>\n",
       "    <tr>\n",
       "      <th>326</th>\n",
       "      <td>43.4</td>\n",
       "      <td>vw dasher (diesel)</td>\n",
       "    </tr>\n",
       "    <tr>\n",
       "      <th>244</th>\n",
       "      <td>43.1</td>\n",
       "      <td>volkswagen rabbit custom diesel</td>\n",
       "    </tr>\n",
       "    <tr>\n",
       "      <th>309</th>\n",
       "      <td>41.5</td>\n",
       "      <td>vw rabbit</td>\n",
       "    </tr>\n",
       "    <tr>\n",
       "      <th>330</th>\n",
       "      <td>40.9</td>\n",
       "      <td>renault lecar deluxe</td>\n",
       "    </tr>\n",
       "    <tr>\n",
       "      <th>324</th>\n",
       "      <td>40.8</td>\n",
       "      <td>datsun 210</td>\n",
       "    </tr>\n",
       "    <tr>\n",
       "      <th>247</th>\n",
       "      <td>39.4</td>\n",
       "      <td>datsun b210 gx</td>\n",
       "    </tr>\n",
       "  </tbody>\n",
       "</table>\n",
       "</div>"
      ],
      "text/plain": [
       "      mpg                         car name\n",
       "322  46.6                        mazda glc\n",
       "329  44.6              honda civic 1500 gl\n",
       "325  44.3             vw rabbit c (diesel)\n",
       "394  44.0                        vw pickup\n",
       "326  43.4               vw dasher (diesel)\n",
       "244  43.1  volkswagen rabbit custom diesel\n",
       "309  41.5                        vw rabbit\n",
       "330  40.9             renault lecar deluxe\n",
       "324  40.8                       datsun 210\n",
       "247  39.4                   datsun b210 gx"
      ]
     },
     "execution_count": 167,
     "metadata": {},
     "output_type": "execute_result"
    }
   ],
   "source": [
    "df_sorted = df.sort_values(by =\"mpg\",ascending=False)\n",
    "df_sorted[[\"mpg\",\"car name\"]].head(10)"
   ]
  },
  {
   "cell_type": "markdown",
   "id": "f29623d7-760e-4c30-876e-ed0baf327e90",
   "metadata": {},
   "source": [
    "## 7. Apply this function to each row and store the result in the new column.\n",
    "   "
   ]
  },
  {
   "cell_type": "code",
   "execution_count": null,
   "id": "503e503c-5843-4864-8e37-70c45a55fbc0",
   "metadata": {},
   "outputs": [],
   "source": [
    "#Apply Function\n",
    "#Create a new column performance_score using a custom function:\n",
    "\n",
    "#def performance_score(row):\n",
    "#return row['mpg'] * row['acceleration'] / row['weight']"
   ]
  },
  {
   "cell_type": "code",
   "execution_count": 169,
   "id": "8f7144e4-62e1-41d1-9115-7924c992d506",
   "metadata": {},
   "outputs": [
    {
     "data": {
      "text/html": [
       "<div>\n",
       "<style scoped>\n",
       "    .dataframe tbody tr th:only-of-type {\n",
       "        vertical-align: middle;\n",
       "    }\n",
       "\n",
       "    .dataframe tbody tr th {\n",
       "        vertical-align: top;\n",
       "    }\n",
       "\n",
       "    .dataframe thead th {\n",
       "        text-align: right;\n",
       "    }\n",
       "</style>\n",
       "<table border=\"1\" class=\"dataframe\">\n",
       "  <thead>\n",
       "    <tr style=\"text-align: right;\">\n",
       "      <th></th>\n",
       "      <th>mpg</th>\n",
       "      <th>cylinders</th>\n",
       "      <th>displacement</th>\n",
       "      <th>horsepower</th>\n",
       "      <th>weight</th>\n",
       "      <th>acceleration</th>\n",
       "      <th>model year</th>\n",
       "      <th>origin</th>\n",
       "      <th>car name</th>\n",
       "      <th>power_to_weight_ratio</th>\n",
       "      <th>performance_score</th>\n",
       "    </tr>\n",
       "  </thead>\n",
       "  <tbody>\n",
       "    <tr>\n",
       "      <th>0</th>\n",
       "      <td>18.0</td>\n",
       "      <td>8</td>\n",
       "      <td>307.0</td>\n",
       "      <td>130.0</td>\n",
       "      <td>3504</td>\n",
       "      <td>12.0</td>\n",
       "      <td>70</td>\n",
       "      <td>1</td>\n",
       "      <td>chevrolet chevelle malibu</td>\n",
       "      <td>0.037100</td>\n",
       "      <td>0.061644</td>\n",
       "    </tr>\n",
       "    <tr>\n",
       "      <th>1</th>\n",
       "      <td>15.0</td>\n",
       "      <td>8</td>\n",
       "      <td>350.0</td>\n",
       "      <td>165.0</td>\n",
       "      <td>3693</td>\n",
       "      <td>11.5</td>\n",
       "      <td>70</td>\n",
       "      <td>1</td>\n",
       "      <td>buick skylark 320</td>\n",
       "      <td>0.044679</td>\n",
       "      <td>0.046710</td>\n",
       "    </tr>\n",
       "    <tr>\n",
       "      <th>2</th>\n",
       "      <td>18.0</td>\n",
       "      <td>8</td>\n",
       "      <td>318.0</td>\n",
       "      <td>150.0</td>\n",
       "      <td>3436</td>\n",
       "      <td>11.0</td>\n",
       "      <td>70</td>\n",
       "      <td>1</td>\n",
       "      <td>plymouth satellite</td>\n",
       "      <td>0.043655</td>\n",
       "      <td>0.057625</td>\n",
       "    </tr>\n",
       "    <tr>\n",
       "      <th>3</th>\n",
       "      <td>16.0</td>\n",
       "      <td>8</td>\n",
       "      <td>304.0</td>\n",
       "      <td>150.0</td>\n",
       "      <td>3433</td>\n",
       "      <td>12.0</td>\n",
       "      <td>70</td>\n",
       "      <td>1</td>\n",
       "      <td>amc rebel sst</td>\n",
       "      <td>0.043694</td>\n",
       "      <td>0.055928</td>\n",
       "    </tr>\n",
       "    <tr>\n",
       "      <th>4</th>\n",
       "      <td>17.0</td>\n",
       "      <td>8</td>\n",
       "      <td>302.0</td>\n",
       "      <td>140.0</td>\n",
       "      <td>3449</td>\n",
       "      <td>10.5</td>\n",
       "      <td>70</td>\n",
       "      <td>1</td>\n",
       "      <td>ford torino</td>\n",
       "      <td>0.040591</td>\n",
       "      <td>0.051754</td>\n",
       "    </tr>\n",
       "  </tbody>\n",
       "</table>\n",
       "</div>"
      ],
      "text/plain": [
       "    mpg  cylinders  displacement  horsepower  weight  acceleration  \\\n",
       "0  18.0          8         307.0       130.0    3504          12.0   \n",
       "1  15.0          8         350.0       165.0    3693          11.5   \n",
       "2  18.0          8         318.0       150.0    3436          11.0   \n",
       "3  16.0          8         304.0       150.0    3433          12.0   \n",
       "4  17.0          8         302.0       140.0    3449          10.5   \n",
       "\n",
       "   model year  origin                   car name  power_to_weight_ratio  \\\n",
       "0          70       1  chevrolet chevelle malibu               0.037100   \n",
       "1          70       1          buick skylark 320               0.044679   \n",
       "2          70       1         plymouth satellite               0.043655   \n",
       "3          70       1              amc rebel sst               0.043694   \n",
       "4          70       1                ford torino               0.040591   \n",
       "\n",
       "   performance_score  \n",
       "0           0.061644  \n",
       "1           0.046710  \n",
       "2           0.057625  \n",
       "3           0.055928  \n",
       "4           0.051754  "
      ]
     },
     "execution_count": 169,
     "metadata": {},
     "output_type": "execute_result"
    }
   ],
   "source": [
    "def performance_score(row):\n",
    "    return row['mpg'] *row['acceleration'] / row['weight']\n",
    "\n",
    "df['performance_score'] = df.apply(performance_score, axis=1)\n",
    "df.head()"
   ]
  },
  {
   "cell_type": "markdown",
   "id": "7d19ce70-d998-47c4-a2b5-fbd68101b574",
   "metadata": {},
   "source": [
    "## 8. Visualization Preparation\n",
    "Generate a summary DataFrame with:\n",
    "- Average mpg, weight, and horsepower for each model_year."
   ]
  },
  {
   "cell_type": "code",
   "execution_count": 177,
   "id": "19c3cfa6-d1e5-430c-be28-55be5dfec54d",
   "metadata": {},
   "outputs": [
    {
     "name": "stdout",
     "output_type": "stream",
     "text": [
      "                  mpg       weight  horsepower\n",
      "model year                                    \n",
      "70          17.689655  3372.793103  147.827586\n",
      "71          21.250000  2995.428571  106.553571\n",
      "72          18.714286  3237.714286  120.178571\n",
      "73          17.100000  3419.025000  130.475000\n",
      "74          22.703704  2877.925926   94.203704\n",
      "75          20.266667  3176.800000  101.066667\n",
      "76          21.573529  3078.735294  101.117647\n",
      "77          23.375000  2997.357143  105.071429\n",
      "78          24.061111  2861.805556   99.694444\n",
      "79          25.093103  3055.344828  101.206897\n",
      "80          33.696552  2436.655172   78.586207\n",
      "81          30.334483  2522.931034   81.465517\n",
      "82          31.709677  2453.548387   81.854839\n"
     ]
    }
   ],
   "source": [
    "summary_df = df.groupby(\"model year\")[[\"mpg\", \"weight\", \"horsepower\"]].mean()\n",
    "print(summary_df)"
   ]
  },
  {
   "cell_type": "markdown",
   "id": "caa950ec-4050-4517-8dcc-02d1a50acd18",
   "metadata": {},
   "source": [
    "## 9. Exporting Data\n",
    "- Save a subset of the data containing only mpg, cylinders, horsepower, and weight for cars with mpg > 30 into a CSV ﬁle named high_mpg_cars.csv."
   ]
  },
  {
   "cell_type": "code",
   "execution_count": 200,
   "id": "6fd61f5f-b045-4b8d-a0b5-51b3c0de9e88",
   "metadata": {},
   "outputs": [
    {
     "data": {
      "text/html": [
       "<div>\n",
       "<style scoped>\n",
       "    .dataframe tbody tr th:only-of-type {\n",
       "        vertical-align: middle;\n",
       "    }\n",
       "\n",
       "    .dataframe tbody tr th {\n",
       "        vertical-align: top;\n",
       "    }\n",
       "\n",
       "    .dataframe thead th {\n",
       "        text-align: right;\n",
       "    }\n",
       "</style>\n",
       "<table border=\"1\" class=\"dataframe\">\n",
       "  <thead>\n",
       "    <tr style=\"text-align: right;\">\n",
       "      <th></th>\n",
       "      <th>mpg</th>\n",
       "      <th>cylinders</th>\n",
       "      <th>displacement</th>\n",
       "      <th>horsepower</th>\n",
       "      <th>weight</th>\n",
       "      <th>acceleration</th>\n",
       "      <th>model year</th>\n",
       "      <th>origin</th>\n",
       "      <th>car name</th>\n",
       "      <th>power_to_weight_ratio</th>\n",
       "      <th>performance_score</th>\n",
       "    </tr>\n",
       "  </thead>\n",
       "  <tbody>\n",
       "    <tr>\n",
       "      <th>53</th>\n",
       "      <td>31.0</td>\n",
       "      <td>4</td>\n",
       "      <td>71.0</td>\n",
       "      <td>65.0</td>\n",
       "      <td>1773</td>\n",
       "      <td>19.0</td>\n",
       "      <td>71</td>\n",
       "      <td>3</td>\n",
       "      <td>toyota corolla 1200</td>\n",
       "      <td>0.036661</td>\n",
       "      <td>0.332205</td>\n",
       "    </tr>\n",
       "    <tr>\n",
       "      <th>54</th>\n",
       "      <td>35.0</td>\n",
       "      <td>4</td>\n",
       "      <td>72.0</td>\n",
       "      <td>69.0</td>\n",
       "      <td>1613</td>\n",
       "      <td>18.0</td>\n",
       "      <td>71</td>\n",
       "      <td>3</td>\n",
       "      <td>datsun 1200</td>\n",
       "      <td>0.042777</td>\n",
       "      <td>0.390577</td>\n",
       "    </tr>\n",
       "    <tr>\n",
       "      <th>129</th>\n",
       "      <td>31.0</td>\n",
       "      <td>4</td>\n",
       "      <td>79.0</td>\n",
       "      <td>67.0</td>\n",
       "      <td>1950</td>\n",
       "      <td>19.0</td>\n",
       "      <td>74</td>\n",
       "      <td>3</td>\n",
       "      <td>datsun b210</td>\n",
       "      <td>0.034359</td>\n",
       "      <td>0.302051</td>\n",
       "    </tr>\n",
       "  </tbody>\n",
       "</table>\n",
       "</div>"
      ],
      "text/plain": [
       "      mpg  cylinders  displacement  horsepower  weight  acceleration  \\\n",
       "53   31.0          4          71.0        65.0    1773          19.0   \n",
       "54   35.0          4          72.0        69.0    1613          18.0   \n",
       "129  31.0          4          79.0        67.0    1950          19.0   \n",
       "\n",
       "     model year  origin             car name  power_to_weight_ratio  \\\n",
       "53           71       3  toyota corolla 1200               0.036661   \n",
       "54           71       3          datsun 1200               0.042777   \n",
       "129          74       3          datsun b210               0.034359   \n",
       "\n",
       "     performance_score  \n",
       "53            0.332205  \n",
       "54            0.390577  \n",
       "129           0.302051  "
      ]
     },
     "execution_count": 200,
     "metadata": {},
     "output_type": "execute_result"
    }
   ],
   "source": [
    "high_mpg_cars = df[df[\"mpg\"]>30]\n",
    "high_mpg_cars.head(3)"
   ]
  },
  {
   "cell_type": "code",
   "execution_count": 211,
   "id": "6245cb48-29a9-4dd6-bd40-e3d5c074f223",
   "metadata": {},
   "outputs": [
    {
     "data": {
      "text/html": [
       "<div>\n",
       "<style scoped>\n",
       "    .dataframe tbody tr th:only-of-type {\n",
       "        vertical-align: middle;\n",
       "    }\n",
       "\n",
       "    .dataframe tbody tr th {\n",
       "        vertical-align: top;\n",
       "    }\n",
       "\n",
       "    .dataframe thead th {\n",
       "        text-align: right;\n",
       "    }\n",
       "</style>\n",
       "<table border=\"1\" class=\"dataframe\">\n",
       "  <thead>\n",
       "    <tr style=\"text-align: right;\">\n",
       "      <th></th>\n",
       "      <th>mpg</th>\n",
       "      <th>cylinders</th>\n",
       "      <th>horsepower</th>\n",
       "      <th>weight</th>\n",
       "    </tr>\n",
       "  </thead>\n",
       "  <tbody>\n",
       "    <tr>\n",
       "      <th>53</th>\n",
       "      <td>31.0</td>\n",
       "      <td>4</td>\n",
       "      <td>65.0</td>\n",
       "      <td>1773</td>\n",
       "    </tr>\n",
       "    <tr>\n",
       "      <th>54</th>\n",
       "      <td>35.0</td>\n",
       "      <td>4</td>\n",
       "      <td>69.0</td>\n",
       "      <td>1613</td>\n",
       "    </tr>\n",
       "    <tr>\n",
       "      <th>129</th>\n",
       "      <td>31.0</td>\n",
       "      <td>4</td>\n",
       "      <td>67.0</td>\n",
       "      <td>1950</td>\n",
       "    </tr>\n",
       "  </tbody>\n",
       "</table>\n",
       "</div>"
      ],
      "text/plain": [
       "      mpg  cylinders  horsepower  weight\n",
       "53   31.0          4        65.0    1773\n",
       "54   35.0          4        69.0    1613\n",
       "129  31.0          4        67.0    1950"
      ]
     },
     "execution_count": 211,
     "metadata": {},
     "output_type": "execute_result"
    }
   ],
   "source": [
    "high_mpg_cars_subset = high_mpg_cars[[\"mpg\", \"cylinders\", \"horsepower\", \"weight\"]]\n",
    "high_mpg_cars_subset.head(3)"
   ]
  },
  {
   "cell_type": "code",
   "execution_count": 215,
   "id": "f26f5dda-7c8a-400a-9540-438c0773d4bc",
   "metadata": {},
   "outputs": [],
   "source": [
    "high_mpg_cars_subset.to_csv(\"high_mpg_cars.csv\",index =False)"
   ]
  },
  {
   "cell_type": "markdown",
   "id": "caa68910-7857-41c3-9a25-621644c2335d",
   "metadata": {},
   "source": [
    "## 10. Finding Anomalies\n",
    "Identify potential outliers in the mpgcolumn using the Interquartile Range (IQR) method. Speciﬁcally:\n",
    "- Calculate the IQR for mpg.\n",
    "- Deﬁne outliers as values less than Q1 - 1.5 * IQRor greater than Q3 +1.5 * IQR.\n",
    "- Create a DataFrame of cars classiﬁed as outliers, displaying car_name, mpg, and model_year."
   ]
  },
  {
   "cell_type": "code",
   "execution_count": 217,
   "id": "789e41be-decf-4310-a470-f1126d79efcf",
   "metadata": {},
   "outputs": [
    {
     "name": "stdout",
     "output_type": "stream",
     "text": [
      "      car name   mpg  model year\n",
      "322  mazda glc  46.6          80\n"
     ]
    }
   ],
   "source": [
    "Q1 = df['mpg'].quantile(0.25)\n",
    "Q3 = df['mpg'].quantile(0.75)\n",
    "IQR = Q3 - Q1\n",
    "lower_Bound = Q1 - 1.5 * IQR\n",
    "upper_Bound = Q3 + 1.5 * IQR\n",
    "outliers = df[(df['mpg'] < lower_Bound) | (df['mpg'] > upper_Bound)]\n",
    "outlier_Cars = outliers[['car name', 'mpg', 'model year']]\n",
    "print(outlier_Cars)"
   ]
  },
  {
   "cell_type": "code",
   "execution_count": null,
   "id": "c4a991fb-5a14-4181-b1f6-336a2ef5582d",
   "metadata": {},
   "outputs": [],
   "source": []
  }
 ],
 "metadata": {
  "kernelspec": {
   "display_name": "Python 3 (ipykernel)",
   "language": "python",
   "name": "python3"
  },
  "language_info": {
   "codemirror_mode": {
    "name": "ipython",
    "version": 3
   },
   "file_extension": ".py",
   "mimetype": "text/x-python",
   "name": "python",
   "nbconvert_exporter": "python",
   "pygments_lexer": "ipython3",
   "version": "3.12.7"
  }
 },
 "nbformat": 4,
 "nbformat_minor": 5
}
